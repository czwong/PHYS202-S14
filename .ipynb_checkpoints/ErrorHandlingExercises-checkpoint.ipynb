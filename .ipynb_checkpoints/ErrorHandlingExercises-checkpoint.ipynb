{
 "metadata": {
  "name": "",
  "signature": "sha256:a71fadc83f1019f0192e8282a3b89dac3d8c6b46af9d450bc7cffcde19d09e62"
 },
 "nbformat": 3,
 "nbformat_minor": 0,
 "worksheets": [
  {
   "cells": [
    {
     "cell_type": "markdown",
     "metadata": {},
     "source": [
      "1. Here is a function which takes a filename, opens the file, reads the result, closes the file, and returns the contents. It should look something like this:\n",
      "\n",
      "\n",
      "Use runtime error handling concepts to improve this function, so that it does the following:\n",
      "    -raises an informative custom error if the file doesn't exist\n",
      "    -uses try, except, else, amd/or finally to safely return the file's contents & close the file if necessary.\n",
      "    -add a keyword safe which defaults to False. If the function is called with safe=True, then return an empty string if the file doesn't exist."
     ]
    },
    {
     "cell_type": "code",
     "collapsed": false,
     "input": [
      "class NonExistentFile(RuntimeError):\n",
      "\n",
      "def read_all_from_file(filename):\n",
      "    if not os.path.exists(filename):\n",
      "        raise ValueError(\"'%s' does not exist\"%format(filename))\n",
      "    try:\n",
      "        f = open(filename)\n",
      "        contents = f.read()\n",
      "        f.close()\n",
      "        return contents\n",
      "    except IOError as err:\n",
      "       print err\n",
      "       print \"File does not exist: \",err.filename\n",
      "       return None\n",
      "    finally:"
     ],
     "language": "python",
     "metadata": {},
     "outputs": [],
     "prompt_number": 1
    },
    {
     "cell_type": "code",
     "collapsed": false,
     "input": [],
     "language": "python",
     "metadata": {},
     "outputs": []
    }
   ],
   "metadata": {}
  }
 ]
}