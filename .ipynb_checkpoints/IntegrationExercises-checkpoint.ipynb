{
 "metadata": {
  "name": "",
  "signature": "sha256:a0d821642af8fe31071357da91f7911835b1f060e942de0084317caee3ef392d"
 },
 "nbformat": 3,
 "nbformat_minor": 0,
 "worksheets": [
  {
   "cells": [
    {
     "cell_type": "heading",
     "level": 1,
     "metadata": {},
     "source": [
      "Integration Exercises"
     ]
    },
    {
     "cell_type": "code",
     "collapsed": false,
     "input": [
      "%pylab inline\n",
      "import numpy as np\n",
      "import matplotlib.pyplot as plt"
     ],
     "language": "python",
     "metadata": {},
     "outputs": [
      {
       "output_type": "stream",
       "stream": "stdout",
       "text": [
        "Populating the interactive namespace from numpy and matplotlib\n"
       ]
      }
     ],
     "prompt_number": 1
    },
    {
     "cell_type": "markdown",
     "metadata": {},
     "source": [
      "Question 1\n",
      "(a) Write two functions trapz(func,x) and simps(func,x) to compute the integral of the function func over the variable x using the trapezoidal rule and Simpson's rule to a file called Integrators.py. Do not use the scipy.integrate built-in functions. Include docstrings with each function that describe what they do. Then import the module and use the functions to answer the following questions."
     ]
    },
    {
     "cell_type": "code",
     "collapsed": false,
     "input": [
      "%%file Integrators.py\n",
      "import numpy as np\n",
      "def trapz(func, N, a, b):\n",
      "    \"\"\"Trapezoidal approximation is the area under one slice of our function. The approximation for the area under the \n",
      "    whole curve is the sum of the areas of the trapezoids for all N slices.\"\"\"\n",
      "    h = (b-a)/N\n",
      "    k = np.arange(1,N)\n",
      "    I = h*(0.5*func(a) + 0.5*func(b) + func(a+k*h).sum())\n",
      "    return I\n",
      "\n",
      "def simps(func, N, a, b):\n",
      "    \"\"\"Simpson\u2019s rule gives us an approximation to the area under two adjacent slices of our function. Applying \n",
      "    Simpson\u2019s rule involves dividing the domain of integration into many slices and using the rule to separately\n",
      "    estimate the area under successive pairs of slices, then adding the estimates for all pairs to get the final answer.\"\"\"\n",
      "    h = (b-a)/N\n",
      "    k1 = np.arange(1,N/2+1)\n",
      "    k2 = np.arange(1,N/2)\n",
      "    I = (1./3.)*h*(func(a) + func(b) + 4.*func(a+(2*k1-1)*h).sum() + 2.*func(a+2*k2*h).sum())\n",
      "    return I"
     ],
     "language": "python",
     "metadata": {},
     "outputs": [
      {
       "output_type": "stream",
       "stream": "stdout",
       "text": [
        "Overwriting Integrators.py\n"
       ]
      }
     ],
     "prompt_number": 1
    },
    {
     "cell_type": "markdown",
     "metadata": {},
     "source": [
      "(b) Use your trapz and simps functions from part (a) to calculate the integral of x4\u22122x+1 from x = 0 to x = 2 with N = 10, N = 100, and N = 1000. Then compare your result to the known correct value of 4.4. What is the percent error in each case?"
     ]
    },
    {
     "cell_type": "code",
     "collapsed": false,
     "input": [
      "import Integrators as myint\n",
      "func = lambda x: x**4 - 2*x + 1\n",
      "print \"N = 10,\",\"Trapezoidal Rule Integral =\",myint.trapz(func, 10, 0., 2.)\n",
      "print \"N = 100,\",\"Trapezoidal Rule Integral =\",myint.trapz(func, 100, 0., 2.)\n",
      "print \"N = 1000,\",\"Trapezoidal Rule Integral =\",myint.trapz(func, 1000, 0., 2.)\n",
      "print \"N = 10,\",\"Simpson's rule Integral =\",myint.simps(func, 10, 0., 2.)\n",
      "print \"N = 100,\",\"Simpson's rule Integral =\",myint.simps(func, 100, 0., 2.)\n",
      "print \"N = 1000,\",\"Simpson's rule Integral =\",myint.simps(func, 1000, 0., 2.)"
     ],
     "language": "python",
     "metadata": {},
     "outputs": [
      {
       "output_type": "stream",
       "stream": "stdout",
       "text": [
        "N = 10, Trapezoidal Rule Integral = 4.50656\n",
        "N = 100, Trapezoidal Rule Integral = 4.401066656\n",
        "N = 1000, Trapezoidal Rule Integral = 4.40001066667\n",
        "N = 10, Simpson's rule Integral = 4.40042666667\n",
        "N = 100, Simpson's rule Integral = 4.40000004267\n",
        "N = 1000, Simpson's rule Integral = 4.4\n"
       ]
      }
     ],
     "prompt_number": 3
    },
    {
     "cell_type": "code",
     "collapsed": false,
     "input": [
      "print \"Trapezoidal Rule Percent Error\"\n",
      "PercentError = ((myint.trapz(func, 10, 0., 2.) - 4.4)/4.4)\n",
      "print \"N = 10,\",PercentError,\"Percent Error\"\n",
      "PercentError = ((myint.trapz(func, 100, 0., 2.) - 4.4)/4.4)\n",
      "print \"N = 100,\",PercentError,\"Percent Error\"\n",
      "PercentError = ((myint.trapz(func, 1000, 0., 2.) - 4.4)/4.4)\n",
      "print \"N = 1000,\",PercentError,\"Percent Error\""
     ],
     "language": "python",
     "metadata": {},
     "outputs": [
      {
       "output_type": "stream",
       "stream": "stdout",
       "text": [
        "Trapezoidal Rule Percent Error\n",
        "N = 10, 0.0242181818182 Percent Error\n",
        "N = 100, 0.000242421818182 Percent Error\n",
        "N = 1000, 2.42424218175e-06 Percent Error\n"
       ]
      }
     ],
     "prompt_number": 4
    },
    {
     "cell_type": "code",
     "collapsed": false,
     "input": [
      "print \"Simpson's Rule Percent Error\"\n",
      "PercentError = ((myint.simps(func, 10, 0., 2.) - 4.4)/4.4)\n",
      "print \"N = 10,\",PercentError,\"Percent Error\"\n",
      "PercentError = ((myint.simps(func, 100, 0., 2.) - 4.4)/4.4)\n",
      "print \"N = 100,\",PercentError,\"Percent Error\"\n",
      "PercentError = ((myint.simps(func, 1000, 0., 2.) - 4.4)/4.4)\n",
      "print \"N = 1000,\",PercentError,\"Percent Error\""
     ],
     "language": "python",
     "metadata": {},
     "outputs": [
      {
       "output_type": "stream",
       "stream": "stdout",
       "text": [
        "Simpson's Rule Percent Error\n",
        "N = 10, 9.69696969697e-05 Percent Error\n",
        "N = 100, 9.69696969187e-09 Percent Error\n",
        "N = 1000, 9.69729347327e-13 Percent Error\n"
       ]
      }
     ],
     "prompt_number": 5
    },
    {
     "cell_type": "markdown",
     "metadata": {},
     "source": [
      "Question 2\n",
      "Consider the integral\n",
      "E(x)=\u222bx0e\u2212t2dt\n",
      "This is the error function, commonly seen in probability and statistics. There is no known way to perform this particular integral analytically, although the integrand can be expanded in a Taylor series and terms computed to arbitrary order. For most applications, numerical approaches are the only way forward.\n",
      "(a) Use scipy.integrate.cumtrapz to calculate E(x) for values of x from 0 to 3 in steps of 0.1. Print the result."
     ]
    },
    {
     "cell_type": "code",
     "collapsed": false,
     "input": [
      "import scipy.integrate as integrate"
     ],
     "language": "python",
     "metadata": {},
     "outputs": [],
     "prompt_number": 6
    },
    {
     "cell_type": "code",
     "collapsed": false,
     "input": [
      "func = lambda t : np.exp(-t**2)\n",
      "t = np.arange(0., 3.1, 0.1)\n",
      "result = integrate.cumtrapz(func(t), t, initial = 0)\n",
      "print result"
     ],
     "language": "python",
     "metadata": {},
     "outputs": [
      {
       "output_type": "stream",
       "stream": "stdout",
       "text": [
        "[ 0.          0.09950249  0.19704446  0.29078049  0.37908424  0.46063146\n",
        "  0.53445532  0.59997046  0.6569664   0.70557392  0.7462108   0.77951463\n",
        "  0.80627088  0.82734325  0.84361215  0.85592503  0.86506023  0.87170427\n",
        "  0.87644128  0.87975207  0.88202044  0.88354398  0.88454709  0.88519453\n",
        "  0.88560418  0.88585826  0.88601274  0.88610482  0.88615862  0.88618943\n",
        "  0.88620673]\n"
       ]
      }
     ],
     "prompt_number": 7
    },
    {
     "cell_type": "markdown",
     "metadata": {},
     "source": [
      "(b) Plot the integrand as a function of t and E(x) as a function of x (both ranging from 0 to 3) on the same graph."
     ]
    },
    {
     "cell_type": "code",
     "collapsed": false,
     "input": [
      "plt.plot(t, func(t),)\n",
      "plt.plot(t, result)\n",
      "plt.xlabel(\"Time\",fontsize=18)\n",
      "plt.ylabel(\"E(x)\",fontsize=18)\n",
      "plt.show()"
     ],
     "language": "python",
     "metadata": {},
     "outputs": [
      {
       "metadata": {},
       "output_type": "display_data",
       "png": "[encoded data removed]",
       "text": [
        "<matplotlib.figure.Figure at 0xa4fe390>"
       ]
      }
     ],
     "prompt_number": 8
    },
    {
     "cell_type": "markdown",
     "metadata": {},
     "source": [
      "Question 3\n",
      "Consider a particle in a one-dimensional box of width L. The probability of finding the particle between a and b is given by\n",
      "P(a,b)=\u222bba|\u03c8(x)|2dx\n",
      "where\n",
      "\u03c8(x)=2L\u203e\u203e\u221asin(n\u03c0xL)\n",
      "is the wavefunction.\n",
      "(a) What is the probability of finding the particle between L/3 and L/2 for the ground state (n = 1) and for the first excited state (n = 2)? Let L = 1. Perform the integral using both scipy.integrate.trapz and scipy.integrate.quad with an accuracy of 6 sig figs. How many slices did you need to use for scipy.integrate.trapz?"
     ]
    },
    {
     "cell_type": "code",
     "collapsed": false,
     "input": [
      "import scipy.integrate as integrate"
     ],
     "language": "python",
     "metadata": {},
     "outputs": [],
     "prompt_number": 9
    },
    {
     "cell_type": "code",
     "collapsed": false,
     "input": [
      "def probability(L, n, x):\n",
      "    return sqrt(2/L) * np.sin((n * np.pi * x)/L)"
     ],
     "language": "python",
     "metadata": {},
     "outputs": [],
     "prompt_number": 10
    },
    {
     "cell_type": "code",
     "collapsed": false,
     "input": [
      "fun = lambda x : (abs(sqrt(2) * np.sin(np.pi * x)))**2\n",
      "\n",
      "result = integrate.quad(fun, 1./3, 1./2)\n",
      "print \"quad integrate =\",result\n",
      "\n",
      "x = linspace(1./3, 1./2, 10.)\n",
      "result2 = integrate.trapz(fun(x), x)\n",
      "print \"trapz integrate =\",result2"
     ],
     "language": "python",
     "metadata": {},
     "outputs": [
      {
       "output_type": "stream",
       "stream": "stdout",
       "text": [
        "quad integrate = (0.3044988905221147, 3.380616792304666e-15)\n",
        "trapz integrate = 0.304343351362\n"
       ]
      }
     ],
     "prompt_number": 11
    },
    {
     "cell_type": "code",
     "collapsed": false,
     "input": [
      "fun2 = lambda x : (abs(sqrt(2) * np.sin(2 * np.pi * x)))**2\n",
      "\n",
      "result = integrate.quad(fun2, 1./3, 1./2)\n",
      "print \"quad integrate =\",result\n",
      "\n",
      "x = linspace(1./3, 1./2, 10.)\n",
      "result2 = integrate.trapz(fun2(x), x)\n",
      "print \"trapz integrate =\",result2"
     ],
     "language": "python",
     "metadata": {},
     "outputs": [
      {
       "output_type": "stream",
       "stream": "stdout",
       "text": [
        "quad integrate = (0.09775055473894276, 1.0852491654105595e-15)\n",
        "trapz integrate = 0.0980618439295\n"
       ]
      }
     ],
     "prompt_number": 12
    },
    {
     "cell_type": "markdown",
     "metadata": {},
     "source": [
      "(b) Make a plot of |\u03c8(x)|2 vs. x for the first two excited states with L=1."
     ]
    },
    {
     "cell_type": "code",
     "collapsed": false,
     "input": [
      "plt.plot(x, fun(x),label='First Excited State')\n",
      "plt.plot(x, fun2(x),label='Second Excited State')\n",
      "plt.legend(loc='upper left')\n",
      "plt.ylabel(\"$|\\Psi(x)|^2$\",fontsize=18)\n",
      "plt.show()"
     ],
     "language": "python",
     "metadata": {},
     "outputs": [
      {
       "metadata": {},
       "output_type": "display_data",
       "png": "[encoded data removed]",
       "text": [
        "<matplotlib.figure.Figure at 0xa5669b0>"
       ]
      }
     ],
     "prompt_number": 13
    },
    {
     "cell_type": "markdown",
     "metadata": {},
     "source": [
      "Question 4\n",
      "Integrals of mass density lead to three interesting quantities:\n",
      "M=\u222b\u03c1dV\n",
      "r\u20d7 cm=(xcm,ycm,zcm)=1M\u222br\u20d7 \u03c1dV\n",
      "Icm=\u222b(r\u2212rcm)2\u03c1dV\n",
      "where M is the total mass (a scalar), r\u20d7 cm is the center of mass position (a vector of 3 components), Icm are the moments of inertia about the center of mass (diagonals of a 3x3 matrix), and the mass density, \u03c1, may be a function of the spatial variables.\n",
      "Consider a rectangular box: length (in x) = 0.2 m, width (in y) = 0.2 m, and height (in z) = 1.0 m centered on the origin, (0,0,0) and with a mass density, \u03c1(x,y) = 100 (kg/m) [(y + 0.1) + z2] for y and z in meters.\n",
      "\n",
      "(a) Use numerical integration to find M, r\u20d7 cm, and Icm. Note that you need M to compute r\u20d7 cm and r\u20d7 cm to compute Icm. The moments of inertia Icm are Ixx, Iyy, and Izz, where e.g. Ixx=\u222b((y\u2212ycm)2+(z\u2212zcm)2)\u03c1dV, etc."
     ]
    },
    {
     "cell_type": "code",
     "collapsed": false,
     "input": [
      "import scipy.integrate as integrate\n",
      "from scipy.integrate import tplquad"
     ],
     "language": "python",
     "metadata": {},
     "outputs": [],
     "prompt_number": 28
    },
    {
     "cell_type": "code",
     "collapsed": false,
     "input": [
      "def density(x,y,z):\n",
      "    return 100 * (y + 0.1) + (100 * z**2)\n",
      "\n",
      "MD = density(0.2, 0.2, 1.0)"
     ],
     "language": "python",
     "metadata": {},
     "outputs": [],
     "prompt_number": 39
    },
    {
     "cell_type": "code",
     "collapsed": false,
     "input": [
      "integrand = lambda z,y,x: 100 * (y + 0.1) + 100 * z**2\n",
      "\n",
      "xmin = 0\n",
      "xmax = 0.2\n",
      "\n",
      "ymin = lambda x: 0\n",
      "ymax = lambda x: 0.2\n",
      "\n",
      "zmin = lambda x,y: 0\n",
      "zmax = lambda x,y: 1\n",
      "\n",
      "ans, err = tplquad(integrand, xmin, xmax, ymin, ymax, zmin, zmax)\n",
      "print \"M = \",ans"
     ],
     "language": "python",
     "metadata": {},
     "outputs": [
      {
       "output_type": "stream",
       "stream": "stdout",
       "text": [
        "M =  2.13333333333\n"
       ]
      }
     ],
     "prompt_number": 40
    },
    {
     "cell_type": "code",
     "collapsed": false,
     "input": [
      "fun = lambda x : MD\n",
      "result = integrate.quad(fun, 0., 0.2)\n",
      "print \"M =\",result"
     ],
     "language": "python",
     "metadata": {},
     "outputs": [
      {
       "output_type": "stream",
       "stream": "stdout",
       "text": [
        "M = (26.0, 2.886579864025407e-13)\n"
       ]
      }
     ],
     "prompt_number": 41
    },
    {
     "cell_type": "code",
     "collapsed": false,
     "input": [
      "r = sqrt(0.2**2 + 0.2**2 + 1.0**2)\n",
      "integrand = lambda z,y,x: (1/ans) * r * (100 * (y + 0.1) + 100 * z**2)\n",
      "\n",
      "xmin = 0\n",
      "xmax = 0.2\n",
      "\n",
      "ymin = lambda x: 0\n",
      "ymax = lambda x: 0.2\n",
      "\n",
      "zmin = lambda x,y: 0\n",
      "zmax = lambda x,y: 1\n",
      "\n",
      "ans2, err = tplquad(integrand, xmin, xmax, ymin, ymax, zmin, zmax)\n",
      "print \"Rcm = \",ans2"
     ],
     "language": "python",
     "metadata": {},
     "outputs": [
      {
       "output_type": "stream",
       "stream": "stdout",
       "text": [
        "Rcm =  1.03923048454\n"
       ]
      }
     ],
     "prompt_number": 37
    },
    {
     "cell_type": "code",
     "collapsed": false,
     "input": [
      "r = sqrt(0.2**2 + 0.2**2 + 1.0**2)\n",
      "MD2 = r * MD\n",
      "fun = lambda x : (1./26.)*MD2\n",
      "result2 = integrate.quad(fun, 0., 0.2)\n",
      "print \"Rcm =\",result2"
     ],
     "language": "python",
     "metadata": {},
     "outputs": [
      {
       "output_type": "stream",
       "stream": "stdout",
       "text": [
        "Rcm = (1.0392304845413265, 1.1537776118301385e-14)\n"
       ]
      }
     ],
     "prompt_number": 17
    },
    {
     "cell_type": "code",
     "collapsed": false,
     "input": [
      "r = sqrt(0.2**2 + 0.2**2 + 1.0**2)\n",
      "integrand = lambda z,y,x: (r - ans2)**2 * (100 * (y + 0.1) + 100 * z**2)\n",
      "\n",
      "xmin = 0\n",
      "xmax = 0.2\n",
      "\n",
      "ymin = lambda x: 0\n",
      "ymax = lambda x: 0.2\n",
      "\n",
      "zmin = lambda x,y: 0\n",
      "zmax = lambda x,y: 1\n",
      "\n",
      "ans3, err = tplquad(integrand, xmin, xmax, ymin, ymax, zmin, zmax)\n",
      "print \"Icm = \",ans3"
     ],
     "language": "python",
     "metadata": {},
     "outputs": [
      {
       "output_type": "stream",
       "stream": "stdout",
       "text": [
        "Icm =  0.0\n"
       ]
      }
     ],
     "prompt_number": 38
    },
    {
     "cell_type": "code",
     "collapsed": false,
     "input": [
      "I = ((r - 1.0392304845413265)**2) * 26.0\n",
      "fun = lambda x : I\n",
      "result3 = integrate.quad(fun, 0., 0.2)\n",
      "print \"Icm =\",result3"
     ],
     "language": "python",
     "metadata": {},
     "outputs": [
      {
       "output_type": "stream",
       "stream": "stdout",
       "text": [
        "Icm = (0.0, 0.0)\n"
       ]
      }
     ],
     "prompt_number": 27
    },
    {
     "cell_type": "markdown",
     "metadata": {},
     "source": [
      "(b) The mass, center of mass, and moments of inertia can be easily computed analytically for a rectangular box of uniform density. (Compute them yourself or look them up). Verify your algorithm from part (a) works by having it compute the result for this test case. How accurate (how many sig figs?) is the numerical result?"
     ]
    },
    {
     "cell_type": "code",
     "collapsed": false,
     "input": [
      "fun = lambda x : MD\n",
      "result = integrate.quad(fun, 0., 0.2)\n",
      "print \"M =\",result"
     ],
     "language": "python",
     "metadata": {},
     "outputs": [
      {
       "output_type": "stream",
       "stream": "stdout",
       "text": [
        "M = (26.0, 2.886579864025407e-13)\n"
       ]
      }
     ],
     "prompt_number": 42
    },
    {
     "cell_type": "code",
     "collapsed": false,
     "input": [
      "r = sqrt(0.2**2 + 0.2**2 + 1.0**2)\n",
      "MD2 = r * MD\n",
      "fun = lambda x : (1./26.)*MD2\n",
      "result2 = integrate.quad(fun, 0., 0.2)\n",
      "print \"Rcm =\",result2"
     ],
     "language": "python",
     "metadata": {},
     "outputs": [
      {
       "output_type": "stream",
       "stream": "stdout",
       "text": [
        "Rcm = (1.0392304845413265, 1.1537776118301385e-14)\n"
       ]
      }
     ],
     "prompt_number": 43
    },
    {
     "cell_type": "code",
     "collapsed": false,
     "input": [
      "I = ((r - 1.0392304845413265)**2) * 26.0\n",
      "fun = lambda x : I\n",
      "result3 = integrate.quad(fun, 0., 0.2)\n",
      "print \"Icm =\",result3"
     ],
     "language": "python",
     "metadata": {},
     "outputs": [
      {
       "output_type": "stream",
       "stream": "stdout",
       "text": [
        "Icm = (0.0, 0.0)\n"
       ]
      }
     ],
     "prompt_number": 44
    },
    {
     "cell_type": "markdown",
     "metadata": {},
     "source": [
      "(c) Finally, change the density function to something of your choosing (different from that used in parts (a) and (b)) and recompute M, r\u20d7 cm and Icm for that case."
     ]
    },
    {
     "cell_type": "code",
     "collapsed": false,
     "input": [
      "integrand = lambda z,y,x: 100 * x * (y + 0.5) + z**2\n",
      "\n",
      "xmin = 0\n",
      "xmax = 0.2\n",
      "\n",
      "ymin = lambda x: 0\n",
      "ymax = lambda x: 0.2\n",
      "\n",
      "zmin = lambda x,y: 0\n",
      "zmax = lambda x,y: 1\n",
      "\n",
      "ans, err = tplquad(integrand, xmin, xmax, ymin, ymax, zmin, zmax)\n",
      "print \"M = \",ans"
     ],
     "language": "python",
     "metadata": {},
     "outputs": [
      {
       "output_type": "stream",
       "stream": "stdout",
       "text": [
        "M =  0.253333333333\n"
       ]
      }
     ],
     "prompt_number": 50
    },
    {
     "cell_type": "code",
     "collapsed": false,
     "input": [
      "r = sqrt(0.2**2 + 0.2**2 + 1.0**2)\n",
      "integrand = lambda z,y,x: (1/ans) * r * (100 * x * (y + 0.5) + z**2)\n",
      "\n",
      "xmin = 0\n",
      "xmax = 0.2\n",
      "\n",
      "ymin = lambda x: 0\n",
      "ymax = lambda x: 0.2\n",
      "\n",
      "zmin = lambda x,y: 0\n",
      "zmax = lambda x,y: 1\n",
      "\n",
      "ans2, err = tplquad(integrand, xmin, xmax, ymin, ymax, zmin, zmax)\n",
      "print \"Rcm = \",ans2"
     ],
     "language": "python",
     "metadata": {},
     "outputs": [
      {
       "output_type": "stream",
       "stream": "stdout",
       "text": [
        "Rcm =  1.03923048454\n"
       ]
      }
     ],
     "prompt_number": 52
    },
    {
     "cell_type": "code",
     "collapsed": false,
     "input": [
      "r = sqrt(0.2**2 + 0.2**2 + 1.0**2)\n",
      "integrand = lambda z,y,x: (r - ans2)**2 * (100 * x * (y + 0.5) + z**2)\n",
      "\n",
      "xmin = 0\n",
      "xmax = 0.2\n",
      "\n",
      "ymin = lambda x: 0\n",
      "ymax = lambda x: 0.2\n",
      "\n",
      "zmin = lambda x,y: 0\n",
      "zmax = lambda x,y: 1\n",
      "\n",
      "ans3, err = tplquad(integrand, xmin, xmax, ymin, ymax, zmin, zmax)\n",
      "print \"Icm = \",ans3"
     ],
     "language": "python",
     "metadata": {},
     "outputs": [
      {
       "output_type": "stream",
       "stream": "stdout",
       "text": [
        "Icm =  1.2490297666e-32\n"
       ]
      }
     ],
     "prompt_number": 57
    },
    {
     "cell_type": "code",
     "collapsed": false,
     "input": [],
     "language": "python",
     "metadata": {},
     "outputs": [],
     "prompt_number": 58
    }
   ],
   "metadata": {}
  }
 ]
}