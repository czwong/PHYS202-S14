{
 "metadata": {
  "name": "",
  "signature": "sha256:244fab385b21edce8b2bc34f487d4365019e753647f9154ee737e5da777e5097"
 },
 "nbformat": 3,
 "nbformat_minor": 0,
 "worksheets": [
  {
   "cells": [
    {
     "cell_type": "heading",
     "level": 1,
     "metadata": {},
     "source": [
      "Interpolation Exercises"
     ]
    },
    {
     "cell_type": "code",
     "collapsed": false,
     "input": [
      "%pylab inline\n",
      "import numpy as np\n",
      "import matplotlib.pyplot as plt\n",
      "from scipy.interpolate import interp1d "
     ],
     "language": "python",
     "metadata": {},
     "outputs": [
      {
       "output_type": "stream",
       "stream": "stdout",
       "text": [
        "Populating the interactive namespace from numpy and matplotlib\n"
       ]
      }
     ],
     "prompt_number": 2
    },
    {
     "cell_type": "markdown",
     "metadata": {},
     "source": [
      "1. It is common to test functions where you know the answer they should give. Let's test the dipolePotential() function that we previously saved in Electrostatics.py to see that the function is zero along the bisector between the charges.\n",
      "First, set up a grid and evaluate the function."
     ]
    },
    {
     "cell_type": "code",
     "collapsed": false,
     "input": [
      "from Electrostatics import *\n",
      "x,y = np.meshgrid(np.arange(-5,5.01,0.5),np.arange(-5,5.01,0.5))\n",
      "Vdipole = dipolePotential(x,y,1e-9,2.)\n",
      "plt.contour(x,y,Vdipole,cmap=cm.coolwarm)\n",
      "plt.show()"
     ],
     "language": "python",
     "metadata": {},
     "outputs": [
      {
       "output_type": "stream",
       "stream": "stderr",
       "text": [
        "Electrostatics.py:6: RuntimeWarning: divide by zero encountered in divide\n",
        "  Vxy = k*q/np.sqrt(((x-Xc)**2 + (y-Yc)**2))\n"
       ]
      },
      {
       "metadata": {},
       "output_type": "display_data",
       "png": "[encoded data removed]",
       "text": [
        "<matplotlib.figure.Figure at 0xa325ef0>"
       ]
      }
     ],
     "prompt_number": 3
    },
    {
     "cell_type": "markdown",
     "metadata": {},
     "source": [
      "(a) Use a boolean mask to locate the positions in the array where x=0. Look at the contour plot. This corresponds to a line through the center of the plot from the top to bottom at x=0."
     ]
    },
    {
     "cell_type": "code",
     "collapsed": false,
     "input": [
      "from Electrostatics import *\n",
      "x,y = np.meshgrid(np.arange(-5,5.01,0.5),np.arange(-5,5.01,0.5))\n",
      "newPoint = (x==0)\n",
      "Vdipole = dipolePotential(x,y,1e-9,2.)\n",
      "plt.contour(x,y,Vdipole,cmap=cm.coolwarm)\n",
      "plt.contour(x, y, Vdipole, Vdipole[newPoint])\n",
      "plt.show()"
     ],
     "language": "python",
     "metadata": {},
     "outputs": [
      {
       "metadata": {},
       "output_type": "display_data",
       "png": "[encoded data removed]",
       "text": [
        "<matplotlib.figure.Figure at 0xa38e160>"
       ]
      }
     ],
     "prompt_number": 4
    },
    {
     "cell_type": "markdown",
     "metadata": {},
     "source": [
      "(b) Check that Vdipole for these locations is zero. i.e. print the value of Vdipole for these locations using your mask from part (a)."
     ]
    },
    {
     "cell_type": "code",
     "collapsed": false,
     "input": [
      "Vdipole[newPoint]"
     ],
     "language": "python",
     "metadata": {},
     "outputs": [
      {
       "metadata": {},
       "output_type": "pyout",
       "prompt_number": 5,
       "text": [
        "array([ 0.,  0.,  0.,  0.,  0.,  0.,  0.,  0.,  0.,  0.,  0.,  0.,  0.,\n",
        "        0.,  0.,  0.,  0.,  0.,  0.,  0.,  0.])"
       ]
      }
     ],
     "prompt_number": 5
    },
    {
     "cell_type": "markdown",
     "metadata": {},
     "source": [
      "2. Thermistors are electrical devices that measure temperature. They are made out of a material whose resistance changes very predictably with temperature. In the lab we measure the resistance of the thermistor and then compute the temperature from the engineering data that the manufacturer sends with the devices. The table below is data for a set of thermistors used in PHYS 340. The temperature values are in \u2218C and the resistances in mega-Ohms, M\u03a9.\n",
      "Temp   Res   Temp   Res   Temp   Res   Temp   Res   Temp   Res\n",
      "--------------------------------------------------------------- \n",
      " 10   3.239   16   2.610   22   2.169   28   1.857   34   1.634\n",
      " 11   3.118   17   2.526   23   2.110   29   1.815   35   1.603\n",
      " 12   3.004   18   2.446   24   2.053   30   1.774   36   1.574\n",
      " 13   2.897   19   2.371   25   2.000   31   1.736   37   1.547\n",
      " 14   2.795   20   2.300   26   1.950   32   1.700   38   1.521\n",
      " 15   2.700   21   2.233   27   1.902   33   1.666   39   1.496"
     ]
    },
    {
     "cell_type": "markdown",
     "metadata": {},
     "source": [
      "(a) Let's turn this look-up table into a continuous function. Write a reusable function Temp(Resistance) that takes any value of Resistance and returns the interpolated temperature. Be sure to include a docstring in your function."
     ]
    },
    {
     "cell_type": "code",
     "collapsed": false,
     "input": [
      "def Temp(Resistance):\n",
      "    import numpy as np\n",
      "    from scipy.interpolate import interp1d \n",
      "    Temperature = np.arange(10, 40)\n",
      "    Res = [3.239, 3.118, 3.004, 2.897, 2.795, 2.700, 2.610, 2.526, 2.446, 2.371, 2.300, 2.233, 2.169, 2.110, 2.053, 2.000, 1.950, 1.902, 1.857, 1.815, 1.774, 1.736, 1.700, 1.666, 1.634, 1.603, 1.574, 1.547, 1.521, 1.496]\n",
      "    newTemp = interp1d(Res[::-1], Temperature[::-1])\n",
      "    return newTemp(Resistance)"
     ],
     "language": "python",
     "metadata": {},
     "outputs": [],
     "prompt_number": 1
    },
    {
     "cell_type": "markdown",
     "metadata": {},
     "source": [
      "(b) Show that the function returns expected values, including some from the table for a few specific input resistances."
     ]
    },
    {
     "cell_type": "code",
     "collapsed": false,
     "input": [
      "print Temp(2.213)\n",
      "print Temp(1.825)\n",
      "print Temp(2.233)\n",
      "print Temp(3.239)\n",
      "print Temp(3.118)"
     ],
     "language": "python",
     "metadata": {},
     "outputs": [
      {
       "output_type": "stream",
       "stream": "stdout",
       "text": [
        "21.3125\n",
        "28.7619047619\n",
        "21.0\n",
        "10.0\n",
        "11.0\n"
       ]
      }
     ],
     "prompt_number": 2
    },
    {
     "cell_type": "markdown",
     "metadata": {},
     "source": [
      "(c) Create a new array Resistance that spans the full range covered by the thermistor data and has reasonably fine sampling (number of elements). Plot the interpolated temperatures Temp(Resistance) as a function of Resistance. Include as an annotation on the plot the value of the temperature for a resistance of 1.75 M\u03a9."
     ]
    },
    {
     "cell_type": "code",
     "collapsed": false,
     "input": [
      "Temperature = np.arange(10, 40)\n",
      "Res = [3.239, 3.118, 3.004, 2.897, 2.795, 2.700, 2.610, 2.526, 2.446, 2.371, 2.300, 2.233, 2.169, 2.110, 2.053, 2.000, 1.950, 1.902, 1.857, 1.815, 1.774, 1.736, 1.700, 1.666, 1.634, 1.603, 1.574, 1.547, 1.521, 1.496]\n",
      "fig = plt.figure()\n",
      "fig.suptitle('Temp(Resistance)', fontsize=22.0)\n",
      "plt.ylabel(\"Temperature\",fontsize=18.0)\n",
      "plt.xlabel(\"Resistance\",fontsize=18.0)\n",
      "plt.plot(Res, Temp(Res))\n",
      "plt.show()"
     ],
     "language": "python",
     "metadata": {},
     "outputs": [
      {
       "ename": "NameError",
       "evalue": "name 'np' is not defined",
       "output_type": "pyerr",
       "traceback": [
        "\u001b[0;31m---------------------------------------------------------------------------\u001b[0m\n\u001b[0;31mNameError\u001b[0m                                 Traceback (most recent call last)",
        "\u001b[0;32m<ipython-input-3-b954740b875d>\u001b[0m in \u001b[0;36m<module>\u001b[0;34m()\u001b[0m\n\u001b[0;32m----> 1\u001b[0;31m \u001b[0mTemperature\u001b[0m \u001b[0;34m=\u001b[0m \u001b[0mnp\u001b[0m\u001b[0;34m.\u001b[0m\u001b[0marange\u001b[0m\u001b[0;34m(\u001b[0m\u001b[0;36m10\u001b[0m\u001b[0;34m,\u001b[0m \u001b[0;36m40\u001b[0m\u001b[0;34m)\u001b[0m\u001b[0;34m\u001b[0m\u001b[0m\n\u001b[0m\u001b[1;32m      2\u001b[0m \u001b[0mRes\u001b[0m \u001b[0;34m=\u001b[0m \u001b[0;34m[\u001b[0m\u001b[0;36m3.239\u001b[0m\u001b[0;34m,\u001b[0m \u001b[0;36m3.118\u001b[0m\u001b[0;34m,\u001b[0m \u001b[0;36m3.004\u001b[0m\u001b[0;34m,\u001b[0m \u001b[0;36m2.897\u001b[0m\u001b[0;34m,\u001b[0m \u001b[0;36m2.795\u001b[0m\u001b[0;34m,\u001b[0m \u001b[0;36m2.700\u001b[0m\u001b[0;34m,\u001b[0m \u001b[0;36m2.610\u001b[0m\u001b[0;34m,\u001b[0m \u001b[0;36m2.526\u001b[0m\u001b[0;34m,\u001b[0m \u001b[0;36m2.446\u001b[0m\u001b[0;34m,\u001b[0m \u001b[0;36m2.371\u001b[0m\u001b[0;34m,\u001b[0m \u001b[0;36m2.300\u001b[0m\u001b[0;34m,\u001b[0m \u001b[0;36m2.233\u001b[0m\u001b[0;34m,\u001b[0m \u001b[0;36m2.169\u001b[0m\u001b[0;34m,\u001b[0m \u001b[0;36m2.110\u001b[0m\u001b[0;34m,\u001b[0m \u001b[0;36m2.053\u001b[0m\u001b[0;34m,\u001b[0m \u001b[0;36m2.000\u001b[0m\u001b[0;34m,\u001b[0m \u001b[0;36m1.950\u001b[0m\u001b[0;34m,\u001b[0m \u001b[0;36m1.902\u001b[0m\u001b[0;34m,\u001b[0m \u001b[0;36m1.857\u001b[0m\u001b[0;34m,\u001b[0m \u001b[0;36m1.815\u001b[0m\u001b[0;34m,\u001b[0m \u001b[0;36m1.774\u001b[0m\u001b[0;34m,\u001b[0m \u001b[0;36m1.736\u001b[0m\u001b[0;34m,\u001b[0m \u001b[0;36m1.700\u001b[0m\u001b[0;34m,\u001b[0m \u001b[0;36m1.666\u001b[0m\u001b[0;34m,\u001b[0m \u001b[0;36m1.634\u001b[0m\u001b[0;34m,\u001b[0m \u001b[0;36m1.603\u001b[0m\u001b[0;34m,\u001b[0m \u001b[0;36m1.574\u001b[0m\u001b[0;34m,\u001b[0m \u001b[0;36m1.547\u001b[0m\u001b[0;34m,\u001b[0m \u001b[0;36m1.521\u001b[0m\u001b[0;34m,\u001b[0m \u001b[0;36m1.496\u001b[0m\u001b[0;34m]\u001b[0m\u001b[0;34m\u001b[0m\u001b[0m\n\u001b[1;32m      3\u001b[0m \u001b[0mfig\u001b[0m \u001b[0;34m=\u001b[0m \u001b[0mplt\u001b[0m\u001b[0;34m.\u001b[0m\u001b[0mfigure\u001b[0m\u001b[0;34m(\u001b[0m\u001b[0;34m)\u001b[0m\u001b[0;34m\u001b[0m\u001b[0m\n\u001b[1;32m      4\u001b[0m \u001b[0mfig\u001b[0m\u001b[0;34m.\u001b[0m\u001b[0msuptitle\u001b[0m\u001b[0;34m(\u001b[0m\u001b[0;34m'Temp(Resistance)'\u001b[0m\u001b[0;34m,\u001b[0m \u001b[0mfontsize\u001b[0m\u001b[0;34m=\u001b[0m\u001b[0;36m22.0\u001b[0m\u001b[0;34m)\u001b[0m\u001b[0;34m\u001b[0m\u001b[0m\n\u001b[1;32m      5\u001b[0m \u001b[0mplt\u001b[0m\u001b[0;34m.\u001b[0m\u001b[0mylabel\u001b[0m\u001b[0;34m(\u001b[0m\u001b[0;34m\"Temperature\"\u001b[0m\u001b[0;34m,\u001b[0m\u001b[0mfontsize\u001b[0m\u001b[0;34m=\u001b[0m\u001b[0;36m18.0\u001b[0m\u001b[0;34m)\u001b[0m\u001b[0;34m\u001b[0m\u001b[0m\n",
        "\u001b[0;31mNameError\u001b[0m: name 'np' is not defined"
       ]
      }
     ],
     "prompt_number": 3
    },
    {
     "cell_type": "code",
     "collapsed": false,
     "input": [],
     "language": "python",
     "metadata": {},
     "outputs": []
    }
   ],
   "metadata": {}
  }
 ]
}