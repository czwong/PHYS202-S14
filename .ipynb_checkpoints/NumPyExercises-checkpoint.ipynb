{
 "metadata": {
  "name": "",
  "signature": "sha256:86719b70a0d99b99855382379a88bc4b7b0d8a33738bc914aa12b29d2fc0e2c6"
 },
 "nbformat": 3,
 "nbformat_minor": 0,
 "worksheets": [
  {
   "cells": [
    {
     "cell_type": "heading",
     "level": 1,
     "metadata": {},
     "source": [
      "NumPyExercises"
     ]
    },
    {
     "cell_type": "code",
     "collapsed": false,
     "input": [
      "%pylab inline\n",
      "import numpy as np"
     ],
     "language": "python",
     "metadata": {},
     "outputs": [
      {
       "output_type": "stream",
       "stream": "stdout",
       "text": [
        "Populating the interactive namespace from numpy and matplotlib\n"
       ]
      }
     ],
     "prompt_number": 1
    },
    {
     "cell_type": "markdown",
     "metadata": {},
     "source": [
      "1. Create the following arrays with correct data types:\n",
      "[[1, 1, 1, 1],\n",
      " [1, 1, 1, 1],\n",
      " [1, 1, 1, 2],\n",
      " [1, 6, 1, 1]]\n",
      "\n",
      "[[0., 0., 0., 0., 0.],\n",
      " [2., 0., 0., 0., 0.],\n",
      " [0., 3., 0., 0., 0.],\n",
      " [0., 0., 4., 0., 0.],\n",
      " [0., 0., 0., 5., 0.],\n",
      " [0., 0., 0., 0., 6.]]\n",
      "You should be able to accomplish this in 3 lines of code or less for each one. The documentation for the diag method may be helpful."
     ]
    },
    {
     "cell_type": "code",
     "collapsed": false,
     "input": [
      "arr = np.ones((4,4), dtype = int)\n",
      "arr[2,3] = 2\n",
      "arr[3,1] = 6\n",
      "print arr"
     ],
     "language": "python",
     "metadata": {},
     "outputs": [
      {
       "output_type": "stream",
       "stream": "stdout",
       "text": [
        "[[1 1 1 1]\n",
        " [1 1 1 1]\n",
        " [1 1 1 2]\n",
        " [1 6 1 1]]\n"
       ]
      }
     ],
     "prompt_number": 6
    },
    {
     "cell_type": "code",
     "collapsed": false,
     "input": [
      "arr = np.diag(np.array([2,3,4,5,6]))\n",
      "arr2 = np.append([[0, 0, 0, 0, 0]], arr, axis = 0)\n",
      "print arr2"
     ],
     "language": "python",
     "metadata": {},
     "outputs": [
      {
       "output_type": "stream",
       "stream": "stdout",
       "text": [
        "[[0 0 0 0 0]\n",
        " [2 0 0 0 0]\n",
        " [0 3 0 0 0]\n",
        " [0 0 4 0 0]\n",
        " [0 0 0 5 0]\n",
        " [0 0 0 0 6]]\n"
       ]
      }
     ],
     "prompt_number": 16
    },
    {
     "cell_type": "markdown",
     "metadata": {},
     "source": [
      "2. Read the documentation for np.tile and use this function to construct the following array:\n",
      "\n",
      "[[4, 3, 4, 3, 4, 3],\n",
      " [2, 1, 2, 1, 2, 1],\n",
      " [4, 3, 4, 3, 4, 3],\n",
      " [2, 1, 2, 1, 2, 1]]"
     ]
    },
    {
     "cell_type": "code",
     "collapsed": false,
     "input": [
      "a = np.array([[4, 3], [2, 1]])\n",
      "a2 = np.tile(a, 3)\n",
      "a3 = np.append(a2, a2, axis =0)\n",
      "print a3"
     ],
     "language": "python",
     "metadata": {},
     "outputs": [
      {
       "output_type": "stream",
       "stream": "stdout",
       "text": [
        "[[4 3 4 3 4 3]\n",
        " [2 1 2 1 2 1]\n",
        " [4 3 4 3 4 3]\n",
        " [2 1 2 1 2 1]]\n"
       ]
      }
     ],
     "prompt_number": 8
    },
    {
     "cell_type": "markdown",
     "metadata": {},
     "source": [
      "3. Let\u2019s create a prime number sieve. We will use the sieve to see what numbers between 0 and 100 are prime.\n",
      "(a) First, construct an array of booleans called is prime with shape (100,), filled with True in all the elements.\n",
      "is_prime = np.ones((100,), dtype=bool)"
     ]
    },
    {
     "cell_type": "code",
     "collapsed": false,
     "input": [
      "is_prime = np.ones((100,), dtype=bool)\n",
      "print is_prime"
     ],
     "language": "python",
     "metadata": {},
     "outputs": [
      {
       "output_type": "stream",
       "stream": "stdout",
       "text": [
        "[ True  True  True  True  True  True  True  True  True  True  True  True\n",
        "  True  True  True  True  True  True  True  True  True  True  True  True\n",
        "  True  True  True  True  True  True  True  True  True  True  True  True\n",
        "  True  True  True  True  True  True  True  True  True  True  True  True\n",
        "  True  True  True  True  True  True  True  True  True  True  True  True\n",
        "  True  True  True  True  True  True  True  True  True  True  True  True\n",
        "  True  True  True  True  True  True  True  True  True  True  True  True\n",
        "  True  True  True  True  True  True  True  True  True  True  True  True\n",
        "  True  True  True  True]\n"
       ]
      }
     ],
     "prompt_number": 7
    },
    {
     "cell_type": "markdown",
     "metadata": {},
     "source": [
      "(b) The index of each boolean element represents the number. \u201cCross out\u201d 0 and 1, which are not primes. You can either set them to False or 0 (which python recognizes as equivalent to False for boolean types)."
     ]
    },
    {
     "cell_type": "code",
     "collapsed": false,
     "input": [
      "is_prime = np.zeros((100,), dtype=bool)\n",
      "print is_prime"
     ],
     "language": "python",
     "metadata": {},
     "outputs": [
      {
       "output_type": "stream",
       "stream": "stdout",
       "text": [
        "[False False False False False False False False False False False False\n",
        " False False False False False False False False False False False False\n",
        " False False False False False False False False False False False False\n",
        " False False False False False False False False False False False False\n",
        " False False False False False False False False False False False False\n",
        " False False False False False False False False False False False False\n",
        " False False False False False False False False False False False False\n",
        " False False False False False False False False False False False False\n",
        " False False False False]\n"
       ]
      }
     ],
     "prompt_number": 9
    },
    {
     "cell_type": "markdown",
     "metadata": {},
     "source": [
      "(c) For each subsequent integer j starting from 2, cross out its higher multiples:\n",
      "N_max = int(np.sqrt(len(is_prime)))\n",
      "for j in range(2, N_max):\n",
      "    is_prime[2*j::j] = False\n",
      "Make sure you understand what this code is doing. What does that slicing of the array mean?"
     ]
    },
    {
     "cell_type": "code",
     "collapsed": false,
     "input": [
      "N_max = int(np.sqrt(len(is_prime)))\n",
      "for j in range(2, N_max):\n",
      "    is_prime[2*j::j] = False\n",
      "\n",
      "print N_max"
     ],
     "language": "python",
     "metadata": {},
     "outputs": [
      {
       "output_type": "stream",
       "stream": "stdout",
       "text": [
        "10\n"
       ]
      }
     ],
     "prompt_number": 11
    },
    {
     "cell_type": "code",
     "collapsed": false,
     "input": [],
     "language": "python",
     "metadata": {},
     "outputs": []
    }
   ],
   "metadata": {}
  }
 ]
}