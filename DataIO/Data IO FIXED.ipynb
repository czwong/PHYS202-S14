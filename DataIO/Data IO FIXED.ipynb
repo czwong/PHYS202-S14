{
 "metadata": {
  "name": "",
  "signature": "sha256:62cb716a18ab43a7150b6b96d3072af095e19d7668d9c220c7e8385784ef8b58"
 },
 "nbformat": 3,
 "nbformat_minor": 0,
 "worksheets": [
  {
   "cells": [
    {
     "cell_type": "code",
     "collapsed": false,
     "input": [
      "arr = []\n",
      "row = len(line)\n",
      "col = len(element)\n",
      "for line in open('messy_data.dat'):\n",
      "    l = line.split(\",\")\n",
      "    for element in l:\n",
      "        arr.append(float(element))\n",
      "        \n",
      "for i in arr:\n",
      "    convert all strings into float\n",
      "    making each line an array of floats instead of array of strings"
     ],
     "language": "python",
     "metadata": {},
     "outputs": [],
     "prompt_number": 3
    },
    {
     "cell_type": "code",
     "collapsed": false,
     "input": [],
     "language": "python",
     "metadata": {},
     "outputs": []
    }
   ],
   "metadata": {}
  }
 ]
}