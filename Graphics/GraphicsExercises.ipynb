{
 "metadata": {
  "name": "",
  "signature": "sha256:f9a28e32fb487f9ce33f23f6899db59b4e3436aee03b43b0a56308340a8abac3"
 },
 "nbformat": 3,
 "nbformat_minor": 0,
 "worksheets": [
  {
   "cells": [
    {
     "cell_type": "heading",
     "level": 1,
     "metadata": {},
     "source": [
      "Graphics Exercises"
     ]
    },
    {
     "cell_type": "code",
     "collapsed": false,
     "input": [
      "%pylab inline\n",
      "from mpl_toolkits.mplot3d.axes3d import Axes3D\n",
      "from matplotlib import cm"
     ],
     "language": "python",
     "metadata": {},
     "outputs": [
      {
       "output_type": "stream",
       "stream": "stdout",
       "text": [
        "Populating the interactive namespace from numpy and matplotlib\n"
       ]
      }
     ],
     "prompt_number": 7
    },
    {
     "cell_type": "markdown",
     "metadata": {},
     "source": [
      "1. Have a look at the Matplotlib gallery, find a cool looking figure, use the %loadpy magic we used before to copy the code into the box below, and modify it. Note that some of the examples might require packages that are not installed on your machine (in particular those that make maps) - if this is the case, pick another example for the purposes of this exercise.\n",
      "\n",
      "Type %loadpy and then the URL of the py file containing the code, and it will automatically copy it into a cell below. Run the cell with the code to see the figure."
     ]
    },
    {
     "cell_type": "code",
     "collapsed": false,
     "input": [
      "%loadpy http://matplotlib.org/mpl_examples/pylab_examples/polar_demo.py"
     ],
     "language": "python",
     "metadata": {},
     "outputs": [],
     "prompt_number": 8
    },
    {
     "cell_type": "code",
     "collapsed": false,
     "input": [
      "\"\"\"\n",
      "Demo of a line plot on a polar axis.\n",
      "\"\"\"\n",
      "import numpy as np\n",
      "import matplotlib.pyplot as plt\n",
      "\n",
      "\n",
      "r = np.arange(0, 3.0, 0.01)\n",
      "theta = 2 * np.pi * r\n",
      "\n",
      "ax = plt.subplot(111, polar=True)\n",
      "ax.plot(theta, r, color='r', linewidth=3)\n",
      "ax.set_rmax(2.0)\n",
      "ax.grid(True)\n",
      "\n",
      "ax.set_title(\"A line plot on a polar axis\", va='bottom')\n",
      "plt.show()\n"
     ],
     "language": "python",
     "metadata": {},
     "outputs": []
    },
    {
     "cell_type": "code",
     "collapsed": false,
     "input": [
      "\"\"\"\n",
      "Demo of a line plot on a polar axis.\n",
      "\"\"\"\n",
      "import numpy as np\n",
      "import matplotlib.pyplot as plt\n",
      "\n",
      "\n",
      "r = np.arange(0, 3.0, 0.01)\n",
      "theta = 2 * np.pi * r\n",
      "\n",
      "ax = plt.subplot(111, polar=True)\n",
      "ax.plot(theta, r, color='r', linewidth=3)\n",
      "ax.set_rmax(2.0)\n",
      "ax.grid(True)\n",
      "\n",
      "ax.set_title(\"A line plot on a polar axis\", va='bottom')\n",
      "plt.show()"
     ],
     "language": "python",
     "metadata": {},
     "outputs": []
    },
    {
     "cell_type": "markdown",
     "metadata": {},
     "source": [
      "2. Download the linked file called sunspots.txt, which contains the observed number of sunspots on the Sun for each month since January 1749. The file contains two columns of numbers, the first being the month and the second being the sunspot number. (See note below\u2217 for how to download it.)\n",
      "\n",
      "(a) Write some code that reads in the data and makes a graph of sunspots as a function of time. Format the x-axis labels to show every 25th year starting with 1750 e.g. (1750, 1775, 1800, 1825, 1850, etc.), instead of sunspot number. Be sure to think about how to make this graph publication quality, i.e. it should have labels, a legend, and customized (i.e. NOT default) color and data representation choices."
     ]
    },
    {
     "cell_type": "code",
     "collapsed": false,
     "input": [
      "def time_graph(sunspots):\n",
      "    arr = []\n",
      "    arr2 = []\n",
      "    for line in open('sunspots.txt'):\n",
      "        for elements in line:\n",
      "            arr.append(str(elements))\n",
      "    plt.axis([1750, 1850])\n",
      "    plt.xticks([n, i[n+25])\n",
      "    plt.yticks([])\n",
      "    plt.xlabel('Year',fontsize=25)\n",
      "    plt.ylabel('Sunspots', fontsize=20)"
     ],
     "language": "python",
     "metadata": {},
     "outputs": [
      {
       "ename": "SyntaxError",
       "evalue": "invalid syntax (<ipython-input-10-3c70f1d06aff>, line 2)",
       "output_type": "pyerr",
       "traceback": [
        "\u001b[1;36m  File \u001b[1;32m\"<ipython-input-10-3c70f1d06aff>\"\u001b[1;36m, line \u001b[1;32m2\u001b[0m\n\u001b[1;33m    x =\u001b[0m\n\u001b[1;37m        ^\u001b[0m\n\u001b[1;31mSyntaxError\u001b[0m\u001b[1;31m:\u001b[0m invalid syntax\n"
       ]
      }
     ],
     "prompt_number": 10
    },
    {
     "cell_type": "code",
     "collapsed": false,
     "input": [
      "def time_graph(sunspots):\n",
      "    arr = []\n",
      "    arr2 = []\n",
      "    for line in open('sunspots.txt')\n",
      "        arr.append(str(elements))\n",
      "        arr.append(str(elements))\n",
      "    plt.axis([1750, 1850])\n",
      "    plt.xticks([n, i[n+25])\n",
      "    plt.yticks([])\n",
      "    plt.xlabel('Year',fontsize=25)\n",
      "    plt.ylabel('Sunspots', fontsize=20)"
     ],
     "language": "python",
     "metadata": {},
     "outputs": []
    },
    {
     "cell_type": "markdown",
     "metadata": {},
     "source": [
      "(b) Now add code to calculate the running average of the data. Plot both the original data and the running average on the same graph, only over the range covered by the first 1000 data points."
     ]
    },
    {
     "cell_type": "code",
     "collapsed": false,
     "input": [],
     "language": "python",
     "metadata": {},
     "outputs": [],
     "prompt_number": 11
    },
    {
     "cell_type": "markdown",
     "metadata": {},
     "source": [
      "3. Download the linked file called stars.txt, which contains the temperatures and magnitudes of several thousand stars in the Milky Way near our solar system. You will use this data to construct a scatter plot of stellar magnitude (logarithm of brightness) vs. temperature (in Kelvin), called a Hertzsprung-Russell diagram, after the astronomers who first plotted such data this way. The diagram is one of the fundamental tools of stellar astrophysics. For historical reasons, H-R diagrams are normally plotted with both the magnitude and temperature axes decreasing to the right/up rather than increasing.\n",
      "\n",
      "(a) Read in the data from stars.txt and plot the data as is, with magnitude and temperature increasing in the usual way. Add labels and format your graph as publication quality."
     ]
    },
    {
     "cell_type": "code",
     "collapsed": false,
     "input": [
      "def time_graph(sunspots):\n",
      "    arr = []\n",
      "    arr2 = []\n",
      "    for line in open('stars.txt')\n",
      "        arr.append(str(elements))\n",
      "        arr.append(str(elements))\n",
      "    plt.axis([1750, 1850])\n",
      "    plt.xticks([n, i[n+25])\n",
      "    plt.yticks([])\n",
      "    plt.xlabel('Year',fontsize=25)\n",
      "    plt.ylabel('Sunspots', fontsize=20)"
     ],
     "language": "python",
     "metadata": {},
     "outputs": [
      {
       "ename": "SyntaxError",
       "evalue": "invalid syntax (<ipython-input-12-58bec9fd91f5>, line 4)",
       "output_type": "pyerr",
       "traceback": [
        "\u001b[1;36m  File \u001b[1;32m\"<ipython-input-12-58bec9fd91f5>\"\u001b[1;36m, line \u001b[1;32m4\u001b[0m\n\u001b[1;33m    for line in open('sunspots.txt')\u001b[0m\n\u001b[1;37m                                    ^\u001b[0m\n\u001b[1;31mSyntaxError\u001b[0m\u001b[1;31m:\u001b[0m invalid syntax\n"
       ]
      }
     ],
     "prompt_number": 12
    },
    {
     "cell_type": "markdown",
     "metadata": {},
     "source": [
      "(b) Now use the xlim() and ylim() commands to flip your graph so that it is a correct H-R diagram. There are several regions of the diagram where stars seem to cluster. Have a look at the wikipedia entry on H-R diagrams to find out what each of these regions are called and add some annotations to your graph to identify them."
     ]
    },
    {
     "cell_type": "code",
     "collapsed": false,
     "input": [],
     "language": "python",
     "metadata": {},
     "outputs": [],
     "prompt_number": 19
    },
    {
     "cell_type": "markdown",
     "metadata": {},
     "source": [
      "4. Make a 3D plot of the function G(x,y)=e(\u2212x2\u2212y2) over the range -6 <(x,y)< 6 using 51 bins in x and 51 bins in y."
     ]
    },
    {
     "cell_type": "code",
     "collapsed": false,
     "input": [
      "from mpl_toolkits.mplot3d import Axes3D\n",
      "from mpl_toolkits.mplot3d.axes3d import Axes3D\n",
      "from matplotlib import cm\n",
      "import math"
     ],
     "language": "python",
     "metadata": {},
     "outputs": [],
     "prompt_number": 17
    },
    {
     "cell_type": "code",
     "collapsed": false,
     "input": [
      "fig = plt.figure()\n",
      "ax = fig.add_subplot(1, 1, 1, projection='3d')\n",
      "dx = 0.1\n",
      "dy = 0.1\n",
      "x = np.arange(-6, 6, dx)\n",
      "y = np.arange(-6, 6, dy)\n",
      "x, y = np.meshgrid(x, y)\n",
      "e = math.e\n",
      "\n",
      "G = e**((-x**2)+(-y**2))\n",
      "fig = figure()\n",
      "\n",
      "p = ax.plot_surface(x, y, G, rstride=1, cstride=1, cmap=cm.jet, linewidth=0, antialiased=False)\n",
      "\n",
      "xlabel(\"x\")\n",
      "ylabel(\"y\")\n",
      "\n",
      "ax.set_zlim3d(0, 1.01);\n",
      "\n",
      "savefig(\"3D-Graph.png\")"
     ],
     "language": "python",
     "metadata": {},
     "outputs": [
      {
       "metadata": {},
       "output_type": "display_data",
       "png": "[encoded data removed]",
       "text": [
        "<matplotlib.figure.Figure at 0x118f20b8>"
       ]
      },
      {
       "metadata": {},
       "output_type": "display_data",
       "png": "[encoded data removed]",
       "text": [
        "<matplotlib.figure.Figure at 0x13e41ef0>"
       ]
      }
     ],
     "prompt_number": 28
    },
    {
     "cell_type": "markdown",
     "metadata": {},
     "source": [
      "5. Determine the electric potential for a quadrupole consisting of\n",
      "\n",
      "q1 = -1.0 nC at (-2 m, 0 m)\n",
      "q2 = -1.0 nC at (+2 m, 0 m)\n",
      "q3 = +1.0 nC at (0 m, -2 m)\n",
      "q4 = +1.0 nC at (0 m, +2 m)\n",
      "\n",
      "(a) Make a surface plot on the range -4 <(x,y)< 4 using 101 bins in x and 101 bins in y. In this case, do not let k = q = d = 1. Use dimensionful quantities and compute the value of the potential in volts.\n",
      "\n",
      "Recall k = 8.9875517873681764 \u00d7 109 N\u22c5 m2/C2."
     ]
    },
    {
     "cell_type": "code",
     "collapsed": false,
     "input": [
      "fig = plt.figure()\n",
      "ax = fig.add_subplot(1, 1, 1, projection='3d')\n",
      "dx = 0.1\n",
      "dy = 0.1\n",
      "x = np.arange(-4, 4, dx)\n",
      "y = np.arange(-4, 4, dy)\n",
      "x, y = np.meshgrid(x, y)\n",
      "k = 8.9875517873681764*10**9"
     ],
     "language": "python",
     "metadata": {},
     "outputs": []
    },
    {
     "cell_type": "code",
     "collapsed": false,
     "input": [],
     "language": "python",
     "metadata": {},
     "outputs": []
    }
   ],
   "metadata": {}
  }
 ]
}