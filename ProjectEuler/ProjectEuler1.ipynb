{
 "metadata": {
  "name": "",
  "signature": "sha256:7eb9b4ee465ac79457973388b7a8405ef97f39f67c8fe69b9c19f11db7224bdc"
 },
 "nbformat": 3,
 "nbformat_minor": 0,
 "worksheets": [
  {
   "cells": [
    {
     "cell_type": "heading",
     "level": 1,
     "metadata": {},
     "source": [
      "Multiples of 3 and 5"
     ]
    },
    {
     "cell_type": "heading",
     "level": 4,
     "metadata": {},
     "source": [
      "Problem 1"
     ]
    },
    {
     "cell_type": "markdown",
     "metadata": {},
     "source": [
      "If we list all the natural numbers below 10 that are multiples of 3 or 5, we get 3, 5, 6 and 9. The sum of these multiples is 23.\n",
      "\n",
      "Find the sum of all the multiples of 3 or 5 below 1000."
     ]
    },
    {
     "cell_type": "markdown",
     "metadata": {},
     "source": [
      "Driver: Chris Wong\n",
      "\n",
      "Navigator: Jon King\n"
     ]
    },
    {
     "cell_type": "code",
     "collapsed": false,
     "input": [
      "results = 0\n",
      "for n in range(10):\n",
      "    if n % 3 == 0 or n % 5 == 0:\n",
      "        results += n\n",
      "print results"
     ],
     "language": "python",
     "metadata": {},
     "outputs": [
      {
       "output_type": "stream",
       "stream": "stdout",
       "text": [
        "23\n"
       ]
      }
     ],
     "prompt_number": 3
    },
    {
     "cell_type": "code",
     "collapsed": false,
     "input": [
      "results = 0\n",
      "for n in range(1000):\n",
      "    if n % 3 == 0 or n % 5 == 0:\n",
      "        results += n\n",
      "print results"
     ],
     "language": "python",
     "metadata": {},
     "outputs": [
      {
       "output_type": "stream",
       "stream": "stdout",
       "text": [
        "233168\n"
       ]
      }
     ],
     "prompt_number": 4
    },
    {
     "cell_type": "code",
     "collapsed": false,
     "input": [],
     "language": "python",
     "metadata": {},
     "outputs": []
    }
   ],
   "metadata": {}
  }
 ]
}