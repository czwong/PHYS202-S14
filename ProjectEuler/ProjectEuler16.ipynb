{
 "metadata": {
  "name": "",
  "signature": "sha256:6c22ffd038caef92cc7936825bdd457998b4af79bcbb5404b0fde215cb8d11c4"
 },
 "nbformat": 3,
 "nbformat_minor": 0,
 "worksheets": [
  {
   "cells": [
    {
     "cell_type": "heading",
     "level": 1,
     "metadata": {},
     "source": [
      "Power digit sum\n",
      "Problem 16"
     ]
    },
    {
     "cell_type": "markdown",
     "metadata": {},
     "source": [
      "2**15 = 32768 and the sum of its digits is 3 + 2 + 7 + 6 + 8 = 26.\n",
      "\n",
      "What is the sum of the digits of the number 2**1000?"
     ]
    },
    {
     "cell_type": "code",
     "collapsed": false,
     "input": [
      "import random\n",
      "m = random.randint(0, 2000)\n",
      "sum = 0\n",
      "for number in str(2**m):\n",
      "    sum = sum + int(number)\n",
      "    \n",
      "print sum"
     ],
     "language": "python",
     "metadata": {},
     "outputs": [
      {
       "output_type": "stream",
       "stream": "stdout",
       "text": [
        "1816\n"
       ]
      }
     ],
     "prompt_number": 13
    },
    {
     "cell_type": "markdown",
     "metadata": {},
     "source": [
      "For the code above, randint is implemented so a random number from the range of 0 to 2000 will be picked and used to find the sum of the power digit. The code below is limited to 2**1000."
     ]
    },
    {
     "cell_type": "code",
     "collapsed": false,
     "input": [
      "import random\n",
      "m = 1000\n",
      "sum = 0\n",
      "for number in str(2**m):\n",
      "    sum = sum + int(number)\n",
      "\n",
      "print sum"
     ],
     "language": "python",
     "metadata": {},
     "outputs": [
      {
       "output_type": "stream",
       "stream": "stdout",
       "text": [
        "1366\n"
       ]
      }
     ],
     "prompt_number": 14
    }
   ],
   "metadata": {}
  }
 ]
}