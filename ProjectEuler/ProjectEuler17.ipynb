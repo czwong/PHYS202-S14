{
 "metadata": {
  "name": "",
  "signature": "sha256:187934e6b9c02d2cbafe54fb2f004a7009e3caa080bb29b115fe5cc5f7e745e9"
 },
 "nbformat": 3,
 "nbformat_minor": 0,
 "worksheets": [
  {
   "cells": [
    {
     "cell_type": "heading",
     "level": 1,
     "metadata": {},
     "source": [
      "Number letter counts"
     ]
    },
    {
     "cell_type": "markdown",
     "metadata": {},
     "source": [
      "Problem 17\n",
      "\n",
      "If the numbers 1 to 5 are written out in words: one, two, three, four, five, then there are 3 + 3 + 5 + 4 + 4 = 19 letters used in total.\n",
      "\n",
      "If all the numbers from 1 to 1000 (one thousand) inclusive were written out in words, how many letters would be used?\n",
      "\n",
      "NOTE: Do not count spaces or hyphens. For example, 342 (three hundred and forty-two) contains 23 letters and 115 (one hundred and fifteen) contains 20 letters. The use of \"and\" when writing out numbers is in compliance with British usage."
     ]
    },
    {
     "cell_type": "code",
     "collapsed": false,
     "input": [
      "ones = [0,3,3,5,4,4,3,5,5,4,3,6,6,8,8,7,7,9,8,8]\n",
      "\n",
      "print \"Total Letters 1 to 5 =\",sum(ones[0:6])"
     ],
     "language": "python",
     "metadata": {},
     "outputs": [
      {
       "output_type": "stream",
       "stream": "stdout",
       "text": [
        "Total Letters 1 to 5 = 19\n"
       ]
      }
     ],
     "prompt_number": 18
    },
    {
     "cell_type": "code",
     "collapsed": false,
     "input": [
      "ones = [0,3,3,5,4,4,3,5,5,4,3,6,6,8,8,7,7,9,8,8]\n",
      "tens = [0,3,6,6,5,5,5,7,6,6]\n",
      "hundred = 7\n",
      "thousand = 8\n",
      "\n",
      "Sum = 0\n",
      "for n in range(1,1000):\n",
      "    a = i % 10\n",
      "    b = ((n % 100) - a) / 10\n",
      "    c = ((n % 1000) - (b * 10) - a) / 100\n",
      "    \n",
      "    if c != 0:\n",
      "        Sum += ones[c] + hundred\n",
      "        if b != 0 or a != 0: Sum +=3\n",
      "    if b == 0 or b == 1: Sum += ones[b * 10 + a]\n",
      "    else: Sum += tens[b] + ones[a]\n",
      "            \n",
      "Sum += ones[1] + thousand\n",
      "print Sum"
     ],
     "language": "python",
     "metadata": {},
     "outputs": [
      {
       "output_type": "stream",
       "stream": "stdout",
       "text": [
        "17241\n"
       ]
      }
     ],
     "prompt_number": 19
    }
   ],
   "metadata": {}
  }
 ]
}