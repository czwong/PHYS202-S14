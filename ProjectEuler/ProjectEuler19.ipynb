{
 "metadata": {
  "name": "",
  "signature": "sha256:49b3798d44b75c2051655a6cf833353ebc7be1b4106510a36977ac71842cc049"
 },
 "nbformat": 3,
 "nbformat_minor": 0,
 "worksheets": [
  {
   "cells": [
    {
     "cell_type": "heading",
     "level": 1,
     "metadata": {},
     "source": [
      "Counting Sundays"
     ]
    },
    {
     "cell_type": "markdown",
     "metadata": {},
     "source": [
      "You are given the following information, but you may prefer to do some research for yourself.\n",
      "\n",
      "    1 Jan 1900 was a Monday.\n",
      "    Thirty days has September,\n",
      "    April, June and November.\n",
      "    All the rest have thirty-one,\n",
      "    Saving February alone,\n",
      "    Which has twenty-eight, rain or shine.\n",
      "    And on leap years, twenty-nine.\n",
      "    A leap year occurs on any year evenly divisible by 4, but not on a century unless it is divisible by 400.\n",
      "\n",
      "How many Sundays fell on the first of the month during the twentieth century (1 Jan 1901 to 31 Dec 2000)?"
     ]
    },
    {
     "cell_type": "code",
     "collapsed": false,
     "input": [
      "months = ['Jan', 'Feb', 'March', 'May', 'July', 'August', 'Oct', 'Dec']\n",
      "months1 = ['April', 'June', 'Sept', 'Nov']\n",
      "years = range(1900,2001)\n",
      "\n",
      "def leapyears(year):\n",
      "    return year % 4 == 0 and (year % 100 != 0 or year % 400 == 0)\n",
      "\n",
      "def calendar():\n",
      "    calendar = [[0,0,0]]\n",
      "    for year in years:\n",
      "        for month in months1:\n",
      "            days = 30\n",
      "            for day in range(1, days + 1):\n",
      "                calendar.append([year, month, day])\n",
      "        for month in months:\n",
      "            if month == 'Feb' and leapyears(year):\n",
      "                days = 29\n",
      "            elif month == 'Feb':\n",
      "                days = 28\n",
      "            else:\n",
      "                days = 31\n",
      "            for day in range(1, days + 1):\n",
      "                calendar.append([year, month, day])\n",
      "    return calendar\n",
      "\n",
      "def sundays():\n",
      "    dates = calendar()\n",
      "    sunday = []\n",
      "    for day in range(len(dates)):\n",
      "        if not (day - 6) % 7 and dates[day][0] > 1900 and not dates[day][2] - 1:\n",
      "            sunday.append(dates[day])\n",
      "    return len(sunday)\n",
      "\n",
      "print(sundays())"
     ],
     "language": "python",
     "metadata": {},
     "outputs": [
      {
       "output_type": "stream",
       "stream": "stdout",
       "text": [
        "171\n"
       ]
      }
     ],
     "prompt_number": 1
    },
    {
     "cell_type": "code",
     "collapsed": false,
     "input": [
      "#This is just to see if my answer is correct by using the built-in datetime library.\n",
      "from calendar import monthrange; from itertools import product\n",
      "print len([(year, month) for year, month in product(range(1901, 2001), range(1, 13)) if monthrange(year, month)[0] == 6])"
     ],
     "language": "python",
     "metadata": {},
     "outputs": [
      {
       "output_type": "stream",
       "stream": "stdout",
       "text": [
        "171\n"
       ]
      }
     ],
     "prompt_number": 3
    }
   ],
   "metadata": {}
  }
 ]
}