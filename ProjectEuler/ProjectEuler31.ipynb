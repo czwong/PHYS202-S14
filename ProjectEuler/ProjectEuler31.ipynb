{
 "metadata": {
  "name": "",
  "signature": "sha256:6d93e3ad6300e0581325d8b5b7a12121d5abbc0fb46cb6de2c29092b6d03ad24"
 },
 "nbformat": 3,
 "nbformat_minor": 0,
 "worksheets": [
  {
   "cells": [
    {
     "cell_type": "heading",
     "level": 1,
     "metadata": {},
     "source": [
      "Coin sums"
     ]
    },
    {
     "cell_type": "markdown",
     "metadata": {},
     "source": [
      "Problem 31\n",
      "\n",
      "In England the currency is made up of pound, \u00a3, and pence, p, and there are eight coins in general circulation:\n",
      "\n",
      "    1p, 2p, 5p, 10p, 20p, 50p, \u00a31 (100p) and \u00a32 (200p).\n",
      "\n",
      "It is possible to make \u00a32 in the following way:\n",
      "\n",
      "    1\u00d7\u00a31 + 1\u00d750p + 2\u00d720p + 1\u00d75p + 1\u00d72p + 3\u00d71p\n",
      "\n",
      "How many different ways can \u00a32 be made using any number of coins?"
     ]
    },
    {
     "cell_type": "code",
     "collapsed": false,
     "input": [
      "sumcoins = 200\n",
      "coins = [1,2,5,10,20,50,100,200]\n",
      "ways = [1]+[0]*sumcoins\n",
      " \n",
      "for coin in coins:\n",
      "    for i in range(coin, sumcoins+1):\n",
      "        ways[i] += ways[i-coin]\n",
      " \n",
      "print ways[sumcoins]"
     ],
     "language": "python",
     "metadata": {},
     "outputs": [
      {
       "output_type": "stream",
       "stream": "stdout",
       "text": [
        "73682\n"
       ]
      }
     ],
     "prompt_number": 4
    },
    {
     "cell_type": "code",
     "collapsed": false,
     "input": [
      "count = 0\n",
      "for c1 in range(200):\n",
      "    for c2 in range(101):\n",
      "        for c5 in range(41):\n",
      "            for c10 in range(21):\n",
      "                for c20 in range(11):\n",
      "                    for c50 in range(5):\n",
      "                        for c100 in range(3):\n",
      "                            for c200 in range(2):\n",
      "                                sum = c1*1 + c2*2 + c5*5 + c10*10 + c20*20 + c50*50 + c100*100 + c200*200\n",
      "\n",
      "if (sum <= 200):\n",
      "    count += (200 - sum)//2 + 1\n",
      "\n",
      "print count"
     ],
     "language": "python",
     "metadata": {},
     "outputs": []
    },
    {
     "cell_type": "markdown",
     "metadata": {},
     "source": [
      "This code just takes a very long time to process. In fact, the solution does not show up but I'm confident that it works."
     ]
    },
    {
     "cell_type": "code",
     "collapsed": false,
     "input": [],
     "language": "python",
     "metadata": {},
     "outputs": []
    }
   ],
   "metadata": {}
  }
 ]
}