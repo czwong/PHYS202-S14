{
 "metadata": {
  "name": "",
  "signature": "sha256:dd333f170d9f6db75ea4b1fa3edac49e4f20f0c420dbd8f5f60ce21ae47c3822"
 },
 "nbformat": 3,
 "nbformat_minor": 0,
 "worksheets": [
  {
   "cells": [
    {
     "cell_type": "heading",
     "level": 1,
     "metadata": {},
     "source": [
      "Sum square difference"
     ]
    },
    {
     "cell_type": "markdown",
     "metadata": {},
     "source": [
      "Problem 6\n",
      "\n",
      "The sum of the squares of the first ten natural numbers is,\n",
      "1**2 + 2**2 + ... + 10**2 = 385\n",
      "\n",
      "The square of the sum of the first ten natural numbers is,\n",
      "(1 + 2 + ... + 10)**2 = 552 = 3025\n",
      "\n",
      "Hence the difference between the sum of the squares of the first ten natural numbers and the square of the sum is 3025 \u2212 385 = 2640.\n",
      "\n",
      "Find the difference between the sum of the squares of the first one hundred natural numbers and the square of the sum."
     ]
    },
    {
     "cell_type": "code",
     "collapsed": false,
     "input": [
      "n = range(1, 101)\n",
      "sum1 = 0\n",
      "for i in n:\n",
      "    sum1 += i**2\n",
      "\n",
      "sum = 0\n",
      "for i in n:\n",
      "    sum += i\n",
      "    sum2 = sum**2\n",
      "\n",
      "print sum2 - sum1"
     ],
     "language": "python",
     "metadata": {},
     "outputs": [
      {
       "output_type": "stream",
       "stream": "stdout",
       "text": [
        "25164150\n"
       ]
      }
     ],
     "prompt_number": 3
    },
    {
     "cell_type": "code",
     "collapsed": false,
     "input": [],
     "language": "python",
     "metadata": {},
     "outputs": []
    }
   ],
   "metadata": {}
  }
 ]
}