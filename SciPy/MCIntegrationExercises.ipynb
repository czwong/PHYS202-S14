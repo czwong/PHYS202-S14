{
 "metadata": {
  "name": "",
  "signature": "sha256:281a0047ee486052de1ebd1f4f7706cc8b9ee34d747671dbcf8b74314a666a98"
 },
 "nbformat": 3,
 "nbformat_minor": 0,
 "worksheets": [
  {
   "cells": [
    {
     "cell_type": "heading",
     "level": 1,
     "metadata": {},
     "source": [
      "Monte Carlo Integration Exercises"
     ]
    },
    {
     "cell_type": "code",
     "collapsed": false,
     "input": [
      "%pylab inline\n",
      "import numpy as np\n",
      "import matplotlib.pyplot as plt"
     ],
     "language": "python",
     "metadata": {},
     "outputs": [
      {
       "output_type": "stream",
       "stream": "stdout",
       "text": [
        "Populating the interactive namespace from numpy and matplotlib\n"
       ]
      }
     ],
     "prompt_number": 1
    },
    {
     "cell_type": "markdown",
     "metadata": {},
     "source": [
      "Question 1\n",
      "Let\u2019s compute the electric potential from a plane of charge as shown in the figure using Monte Carlo integration.\n",
      "\n",
      "The integral comes from summing all the potentials from the chunks of \u201cpoint\u201d charges. Just as we summed two charges for a dipole, now we\u2019ll sum many charges. The important part is to understand how dQ, modeled as a point charge, is related to \u03c3dA, where \u03c3 is the surface charge density = charge/area (\u03c3=Q/A ) Review your notes from PHYS 133 if you need a refresher.\n",
      "We want to use our previously defined pointPotential() function from Electrostatics.py, so we have to import it."
     ]
    },
    {
     "cell_type": "code",
     "collapsed": false,
     "input": [
      "from Electrostatics import *"
     ],
     "language": "python",
     "metadata": {},
     "outputs": [],
     "prompt_number": 2
    },
    {
     "cell_type": "markdown",
     "metadata": {},
     "source": [
      "(a) Use the sample mean method to compute the potential at point P(2,3) due to the disk of charge for different numbers of samples N=(101,102,103,104,105,106). Report the value and its statistical uncertainty for each sample size. How does the result depend on N?"
     ]
    },
    {
     "cell_type": "code",
     "collapsed": false,
     "input": [
      "def sampleMean(N,xmin=-1.0,xmax=1.0,ymin=0.0,ymax=2.0):\n",
      "    x = 2.\n",
      "    y = 3.\n",
      "\n",
      "    samples_x = xmin + (xmax-xmin)*np.random.random_sample(N);\n",
      "    samples_y = ymin + (ymax-ymin)*np.random.random_sample(N);\n",
      "    \n",
      "    approx = pointPotential(x,y,1e-6,samples_x,samples_y)\n",
      "    I = approx.mean()*(xmax-xmin)*(ymax-ymin)\n",
      "\n",
      "    Iunc = (xmax-xmin)*(ymax-ymin)*np.sqrt( ((approx**2).mean()-(approx.mean())**2)/N )\n",
      "    \n",
      "    print \"SampleMean =\", I\n",
      "    print \"Statistical Uncertainty =\",Iunc"
     ],
     "language": "python",
     "metadata": {},
     "outputs": [],
     "prompt_number": 3
    },
    {
     "cell_type": "code",
     "collapsed": false,
     "input": [
      "sampleMean(10)"
     ],
     "language": "python",
     "metadata": {},
     "outputs": [
      {
       "output_type": "stream",
       "stream": "stdout",
       "text": [
        "SampleMean = 12400.3292279\n",
        "Statistical Uncertainty = 524.516594032\n"
       ]
      }
     ],
     "prompt_number": 4
    },
    {
     "cell_type": "code",
     "collapsed": false,
     "input": [
      "sampleMean(10e2)"
     ],
     "language": "python",
     "metadata": {},
     "outputs": [
      {
       "output_type": "stream",
       "stream": "stdout",
       "text": [
        "SampleMean = 12960.6397934\n",
        "Statistical Uncertainty = 92.2747890808\n"
       ]
      }
     ],
     "prompt_number": 5
    },
    {
     "cell_type": "code",
     "collapsed": false,
     "input": [
      "sampleMean(10e3)"
     ],
     "language": "python",
     "metadata": {},
     "outputs": [
      {
       "output_type": "stream",
       "stream": "stdout",
       "text": [
        "SampleMean = 12996.2251746\n",
        "Statistical Uncertainty = 29.7472824343\n"
       ]
      }
     ],
     "prompt_number": 6
    },
    {
     "cell_type": "code",
     "collapsed": false,
     "input": [
      "sampleMean(10e4)"
     ],
     "language": "python",
     "metadata": {},
     "outputs": [
      {
       "output_type": "stream",
       "stream": "stdout",
       "text": [
        "SampleMean = 13025.2396725\n",
        "Statistical Uncertainty = 9.37540787894\n"
       ]
      }
     ],
     "prompt_number": 7
    },
    {
     "cell_type": "code",
     "collapsed": false,
     "input": [
      "sampleMean(10e5)"
     ],
     "language": "python",
     "metadata": {},
     "outputs": [
      {
       "output_type": "stream",
       "stream": "stdout",
       "text": [
        "SampleMean = 13031.0097089\n",
        "Statistical Uncertainty = 2.97109979451\n"
       ]
      }
     ],
     "prompt_number": 8
    },
    {
     "cell_type": "code",
     "collapsed": false,
     "input": [
      "sampleMean(10e6)"
     ],
     "language": "python",
     "metadata": {},
     "outputs": [
      {
       "output_type": "stream",
       "stream": "stdout",
       "text": [
        "SampleMean = 13026.4515287\n",
        "Statistical Uncertainty = 0.939525006555\n"
       ]
      }
     ],
     "prompt_number": 9
    },
    {
     "cell_type": "markdown",
     "metadata": {},
     "source": [
      "(b) Now use the same method to compute the electric potential, V, at point P(2,3), from a disk centered on the origin with radius, R=1.2 cm, and charge density, \u03c3 = 2 nC/m2 .\n",
      "\n",
      "The integral is\n",
      "V=\u222b2\u03c00\u222b0.0120K\u03c3|r\u2212r0|rd\u03b8dr"
     ]
    },
    {
     "cell_type": "code",
     "collapsed": false,
     "input": [
      "def sampleMean(N,rmin=0.0,rmax=1.2,thetamin=0.0,thetamax=2*pi):\n",
      "    K = 9e9\n",
      "    o = 2e-6\n",
      "    r0 = sqrt(13)\n",
      "    f = lambda theta, r: ((K*o)/abs(r-r0))*r\n",
      "    \n",
      "    r = (rmax-rmin)*np.random.random_sample(N);\n",
      "    theta = (thetamax-thetamin)*np.random.random_sample(N);\n",
      "    \n",
      "    approx = f(theta, r)\n",
      "    I = approx.mean()*(rmax-rmin)*(thetamax-thetamin)\n",
      " \n",
      "    Iunc = (rmax-rmin)*(thetamax-thetamin)*np.sqrt( ((approx**2).mean()-(approx.mean())**2)/N )\n",
      "    \n",
      "    print \"Electric Potential =\", I\n",
      "    print \"Statistical Uncertainty =\",Iunc"
     ],
     "language": "python",
     "metadata": {},
     "outputs": [],
     "prompt_number": 10
    },
    {
     "cell_type": "code",
     "collapsed": false,
     "input": [
      "sampleMean(10)"
     ],
     "language": "python",
     "metadata": {},
     "outputs": [
      {
       "output_type": "stream",
       "stream": "stdout",
       "text": [
        "Electric Potential = 25486.9238197\n",
        "Statistical Uncertainty = 5945.07869162\n"
       ]
      }
     ],
     "prompt_number": 11
    },
    {
     "cell_type": "code",
     "collapsed": false,
     "input": [
      "sampleMean(10e2)"
     ],
     "language": "python",
     "metadata": {},
     "outputs": [
      {
       "output_type": "stream",
       "stream": "stdout",
       "text": [
        "Electric Potential = 28845.2249237\n",
        "Statistical Uncertainty = 607.049299385\n"
       ]
      }
     ],
     "prompt_number": 12
    },
    {
     "cell_type": "code",
     "collapsed": false,
     "input": [
      "sampleMean(10e3)"
     ],
     "language": "python",
     "metadata": {},
     "outputs": [
      {
       "output_type": "stream",
       "stream": "stdout",
       "text": [
        "Electric Potential = 29265.465643\n",
        "Statistical Uncertainty = 192.129565138\n"
       ]
      }
     ],
     "prompt_number": 13
    },
    {
     "cell_type": "code",
     "collapsed": false,
     "input": [
      "sampleMean(10e4)"
     ],
     "language": "python",
     "metadata": {},
     "outputs": [
      {
       "output_type": "stream",
       "stream": "stdout",
       "text": [
        "Electric Potential = 29424.671342\n",
        "Statistical Uncertainty = 61.1847706893\n"
       ]
      }
     ],
     "prompt_number": 14
    },
    {
     "cell_type": "code",
     "collapsed": false,
     "input": [
      "sampleMean(10e5)"
     ],
     "language": "python",
     "metadata": {},
     "outputs": [
      {
       "output_type": "stream",
       "stream": "stdout",
       "text": [
        "Electric Potential = 29321.4043382\n",
        "Statistical Uncertainty = 19.3322592145\n"
       ]
      }
     ],
     "prompt_number": 15
    },
    {
     "cell_type": "code",
     "collapsed": false,
     "input": [
      "sampleMean(10e6)"
     ],
     "language": "python",
     "metadata": {},
     "outputs": [
      {
       "output_type": "stream",
       "stream": "stdout",
       "text": [
        "Electric Potential = 29305.9382769\n",
        "Statistical Uncertainty = 6.11457632283\n"
       ]
      }
     ],
     "prompt_number": 16
    },
    {
     "cell_type": "markdown",
     "metadata": {},
     "source": [
      "Question 2\n",
      "Use the sample mean method to compute the volume of a sphere with radius 1 using spherical coordinates:\n",
      "V=\u222b10\u222b\u03c00\u222b2\u03c00r2sin(\u03b8)drd\u03b8d\u03d5\n",
      "for N=(101,102,103,104,105,106). Report the value and statistical uncertainty for each sample size. How does the result depend on N?"
     ]
    },
    {
     "cell_type": "code",
     "collapsed": false,
     "input": [
      "def sphereVol(N,rmin=0.0,rmax=1.0,thetamin=0.0,thetamax=pi,phimin=0.0,phimax=2*pi):\n",
      "    f = lambda r, theta, phi: r**(2) * np.sin(theta)\n",
      "\n",
      "    r = (rmax-rmin)*np.random.random_sample(N);\n",
      "    theta = (thetamax-thetamin)*np.random.random_sample(N);\n",
      "    phi = (phimax-phimin)*np.random.random_sample(N);\n",
      "    \n",
      "    approx = f(r, theta, phi)\n",
      "    I = approx.mean()*(rmax-rmin)*(thetamax-thetamin)*(phimax-phimin)\n",
      "\n",
      "    Iunc = (rmax-rmin)*(thetamax-thetamin)*(phimax-phimin)*np.sqrt( ((approx**2).mean()-(approx.mean())**2)/N )\n",
      "    \n",
      "    print \"Spherical Volume =\", I\n",
      "    print \"Statistical Uncertainty =\",Iunc"
     ],
     "language": "python",
     "metadata": {},
     "outputs": [],
     "prompt_number": 17
    },
    {
     "cell_type": "code",
     "collapsed": false,
     "input": [
      "sphereVol(10)"
     ],
     "language": "python",
     "metadata": {},
     "outputs": [
      {
       "output_type": "stream",
       "stream": "stdout",
       "text": [
        "Spherical Volume = 4.32262801993\n",
        "Statistical Uncertainty = 1.82282260615\n"
       ]
      }
     ],
     "prompt_number": 18
    },
    {
     "cell_type": "code",
     "collapsed": false,
     "input": [
      "sphereVol(10e2)"
     ],
     "language": "python",
     "metadata": {},
     "outputs": [
      {
       "output_type": "stream",
       "stream": "stdout",
       "text": [
        "Spherical Volume = 4.25597658954\n",
        "Statistical Uncertainty = 0.148248155348\n"
       ]
      }
     ],
     "prompt_number": 19
    },
    {
     "cell_type": "code",
     "collapsed": false,
     "input": [
      "sphereVol(10e3)"
     ],
     "language": "python",
     "metadata": {},
     "outputs": [
      {
       "output_type": "stream",
       "stream": "stdout",
       "text": [
        "Spherical Volume = 4.21340598421\n",
        "Statistical Uncertainty = 0.0465486800589\n"
       ]
      }
     ],
     "prompt_number": 20
    },
    {
     "cell_type": "code",
     "collapsed": false,
     "input": [
      "sphereVol(10e4)"
     ],
     "language": "python",
     "metadata": {},
     "outputs": [
      {
       "output_type": "stream",
       "stream": "stdout",
       "text": [
        "Spherical Volume = 4.20469840658\n",
        "Statistical Uncertainty = 0.0146529279141\n"
       ]
      }
     ],
     "prompt_number": 21
    },
    {
     "cell_type": "code",
     "collapsed": false,
     "input": [
      "sphereVol(10e5)"
     ],
     "language": "python",
     "metadata": {},
     "outputs": [
      {
       "output_type": "stream",
       "stream": "stdout",
       "text": [
        "Spherical Volume = 4.18944785839\n",
        "Statistical Uncertainty = 0.0046270695666\n"
       ]
      }
     ],
     "prompt_number": 22
    },
    {
     "cell_type": "code",
     "collapsed": false,
     "input": [
      "sphereVol(10e6)"
     ],
     "language": "python",
     "metadata": {},
     "outputs": [
      {
       "output_type": "stream",
       "stream": "stdout",
       "text": [
        "Spherical Volume = 4.18978227863\n",
        "Statistical Uncertainty = 0.00146406313664\n"
       ]
      }
     ],
     "prompt_number": 23
    },
    {
     "cell_type": "markdown",
     "metadata": {},
     "source": [
      "Question 3\n",
      "(a) Use the hit or miss Monte Carlo method to estimate the integral of f(x)=41\u2212x2\u203e\u203e\u203e\u203e\u203e\u203e\u221a in the interval 0\u2264x\u22641 as a function of N, the number of samples. Let N range from 101 to 106 and use at least 100 different values for N.\n",
      "(np.logspace might be useful here to get evenly spaced values for N.)"
     ]
    },
    {
     "cell_type": "code",
     "collapsed": false,
     "input": [
      "def hitOrMiss(N=10,xmin=0.0,xmax=1.0):\n",
      "    f = lambda x: 4 * sqrt(1 - x**2)\n",
      "    x = np.arange(-1.,2.,0.001)\n",
      "\n",
      "    subx = x[logical_and((x > xmin),(x < xmax))]\n",
      "    ymax = f(subx).max()*1.05\n",
      "    ymin = 0.\n",
      "\n",
      "    for n in np.logspace(10e1,10e6,100):\n",
      "        samples_x = (xmax-xmin)*np.random.random_sample(N)\n",
      "        samples_y = (ymax-ymin)*np.random.random_sample(N)\n",
      "        newmask = (samples_y < f(samples_x))\n",
      "        I = (xmax-xmin)*(ymax-ymin)*newmask.sum()/newmask.size\n",
      "    print \"Integral =\", I\n",
      "    \n",
      "hitOrMiss()"
     ],
     "language": "python",
     "metadata": {},
     "outputs": [
      {
       "output_type": "stream",
       "stream": "stdout",
       "text": [
        "Integral = 2.94\n"
       ]
      }
     ],
     "prompt_number": 31
    },
    {
     "cell_type": "code",
     "collapsed": false,
     "input": [
      "hitOrMiss(100)"
     ],
     "language": "python",
     "metadata": {},
     "outputs": [
      {
       "output_type": "stream",
       "stream": "stdout",
       "text": [
        "Integral = 3.192\n"
       ]
      }
     ],
     "prompt_number": 32
    },
    {
     "cell_type": "code",
     "collapsed": false,
     "input": [
      "hitOrMiss(1000)"
     ],
     "language": "python",
     "metadata": {},
     "outputs": [
      {
       "output_type": "stream",
       "stream": "stdout",
       "text": [
        "Integral = 3.0576\n"
       ]
      }
     ],
     "prompt_number": 33
    },
    {
     "cell_type": "code",
     "collapsed": false,
     "input": [
      "hitOrMiss(10000)"
     ],
     "language": "python",
     "metadata": {},
     "outputs": [
      {
       "output_type": "stream",
       "stream": "stdout",
       "text": [
        "Integral = 3.13908\n"
       ]
      }
     ],
     "prompt_number": 34
    },
    {
     "cell_type": "code",
     "collapsed": false,
     "input": [
      "hitOrMiss(100000)"
     ],
     "language": "python",
     "metadata": {},
     "outputs": [
      {
       "output_type": "stream",
       "stream": "stdout",
       "text": [
        "Integral = 3.140172\n"
       ]
      }
     ],
     "prompt_number": 35
    },
    {
     "cell_type": "markdown",
     "metadata": {},
     "source": [
      "(b) Calculate the percent error for the N values from part (a) using the exact result \u03c0. Make a log-log plot of the error as a function of N.\n",
      "What is the approximate functional dependence of the error on N for large N, for example N\u2265104?"
     ]
    },
    {
     "cell_type": "code",
     "collapsed": false,
     "input": [
      "def hitOrMiss(N=10,xmin=0.0,xmax=1.0):\n",
      "    f = lambda x: 4 * sqrt(1 - x**2)\n",
      "    x = np.arange(-1.,2.,0.001)\n",
      "    Iexact = np.pi\n",
      "\n",
      "    subx = x[logical_and((x > xmin),(x < xmax))]\n",
      "    ymax = f(subx).max()*1.05\n",
      "    ymin = 0.\n",
      "    Narr = []\n",
      "    Ierror = []\n",
      "\n",
      "    for n in np.logspace(1,6,100):\n",
      "        samples_x = (xmax-xmin)*np.random.random_sample(N)\n",
      "        samples_y = (ymax-ymin)*np.random.random_sample(N)\n",
      "        newmask = (samples_y < f(samples_x))\n",
      "        I = (xmax-xmin)*(ymax-ymin)*newmask.sum()/newmask.size\n",
      "        Ierr = 100*np.abs(Iexact - I)/Iexact\n",
      "        Ierror.append(Ierr)\n",
      "        Narr.append(n)\n",
      "    \n",
      "    plt.plot(Narr, Ierror, 'o')\n",
      "    plt.ylabel(\"Error\", fontsize=15)\n",
      "    plt.xlabel(\"N Values\", fontsize=15)\n",
      "    plt.yscale('Log')\n",
      "    plt.xscale('Log')\n",
      "    plt.grid()\n",
      "    plt.show()"
     ],
     "language": "python",
     "metadata": {},
     "outputs": [],
     "prompt_number": 44
    },
    {
     "cell_type": "code",
     "collapsed": false,
     "input": [
      "hitOrMiss()"
     ],
     "language": "python",
     "metadata": {},
     "outputs": [
      {
       "metadata": {},
       "output_type": "display_data",
       "png": "[encoded data removed]",
       "text": [
        "<matplotlib.figure.Figure at 0x4029e10>"
       ]
      }
     ],
     "prompt_number": 45
    },
    {
     "cell_type": "markdown",
     "metadata": {},
     "source": [
      "(c) Estimate the same integral using the sample mean method and compute the statistical uncertainty and error as a function of the number of samples N for N\u2265104. Use at least 100 different values for N.\n",
      "Make a log-log plot of both the statistical uncertainty and the error as a function of N.\n",
      "How many samples are needed to determine the result to two decimal places? What is the approximate functional dependence of the error on N for large N?"
     ]
    },
    {
     "cell_type": "code",
     "collapsed": false,
     "input": [
      "#Plot our function\n",
      "    plt.plot(x,f(x),lw=3)\n",
      "    plt.ylabel(r'$x^{1/2} + \\sin(x)$',fontsize=20)\n",
      "    plt.xlabel(r'$x$', fontsize = 20)\n",
      "    plt.xlim(0.,15.)\n",
      "\n",
      "    #Just show the first 500 points or it gets hard to see\n",
      "    plt.plot(samples_x[1:500],samples_y[1:500],'g.')\n",
      "\n",
      "    #Use the mask to show the ones below the function in red\n",
      "    plt.plot(samples_x[newmask[:500]],samples_y[newmask[:500]],'r.')\n",
      "\n",
      "    #plot the box\n",
      "    plt.plot([xmin, xmin], [ymin, ymax], color='k', linestyle='--') #vertical left\n",
      "    plt.plot([xmax, xmax], [ymin, ymax], color='k', linestyle='--') #vertical right\n",
      "    plt.plot([xmin, xmax], [ymax, ymax], color='k', linestyle='--') #horizontal top\n",
      "\n",
      "    plt.show()"
     ],
     "language": "python",
     "metadata": {},
     "outputs": [
      {
       "ename": "IndentationError",
       "evalue": "unexpected indent (<ipython-input-30-5d53a1e6a279>, line 2)",
       "output_type": "pyerr",
       "traceback": [
        "\u001b[1;36m  File \u001b[1;32m\"<ipython-input-30-5d53a1e6a279>\"\u001b[1;36m, line \u001b[1;32m2\u001b[0m\n\u001b[1;33m    plt.plot(x,f(x),lw=3)\u001b[0m\n\u001b[1;37m    ^\u001b[0m\n\u001b[1;31mIndentationError\u001b[0m\u001b[1;31m:\u001b[0m unexpected indent\n"
       ]
      }
     ],
     "prompt_number": 30
    }
   ],
   "metadata": {}
  }
 ]
}