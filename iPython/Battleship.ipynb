{
 "metadata": {
  "name": "",
  "signature": "sha256:aef53296a970c70799636da61a51a1b9f04a614e9378e2ab94b8389ee709711d"
 },
 "nbformat": 3,
 "nbformat_minor": 0,
 "worksheets": [
  {
   "cells": [
    {
     "cell_type": "code",
     "collapsed": false,
     "input": [
      "from random import randint\n",
      "from ipythonblocks import colors\n",
      "from ipythonblocks import BlockGrid\n",
      "\n",
      "board = []\n",
      "    \n",
      "\n",
      "print \"Let's play Battleship!\"\n",
      "grid = BlockGrid(10, 10, fill=(173, 216, 230))\n",
      "\n",
      "def random_row(board):\n",
      "    return randint(0, len(board) - 1)\n",
      "\n",
      "def random_col(board):\n",
      "    return randint(0, len(board[0]) - 1)\n",
      "\n",
      "ship_row = random_row(board)\n",
      "ship_col = random_col(board)\n",
      "\n",
      "# Everything from here on should go in your for loop!\n",
      "# Be sure to indent four spaces!\n",
      "for turn in range(8):\n",
      "    guess_row = int(raw_input(\"Guess Row:\"))\n",
      "    guess_col = int(raw_input(\"Guess Col:\"))\n",
      "\n",
      "    if guess_row == ship_row and guess_col == ship_col:\n",
      "        print \"Congratulations! You sunk my battleship!\"\n",
      "        print ship_row\n",
      "        print ship_col\n",
      "        for turn in range(8):\n",
      "            break\n",
      "        print_board(board)\n",
      "    else:\n",
      "        if (guess_row < 0 or guess_row > 10) or (guess_col < 0 or guess_col > 10):\n",
      "            print \"Oops, that's not even in the ocean.\"\n",
      "            print \"Turn\", turn + 1\n",
      "        elif(board[guess_row][guess_col] == colors['Red']):\n",
      "            print \"You guessed that one already.\"\n",
      "            print \"Turn\", turn + 1\n",
      "        else:\n",
      "            print \"You missed my battleship!\"\n",
      "            board[guess_row][guess_col] = colors['Blue']\n",
      "            print \"Turn\", turn + 1\n",
      "        if turn == 8:\n",
      "            print \"Game Over\"\n",
      "        print_board(board)"
     ],
     "language": "python",
     "metadata": {},
     "outputs": [
      {
       "output_type": "stream",
       "stream": "stdout",
       "text": [
        "Let's play Battleship!\n",
        "O O O O O O O O O O\n",
        "O O O O O O O O O O\n",
        "O O O O O O O O O O\n",
        "O O O O O O O O O O\n",
        "O O O O O O O O O O\n",
        "O O O O O O O O O O\n",
        "O O O O O O O O O O\n",
        "O O O O O O O O O O\n",
        "O O O O O O O O O O\n",
        "O O O O O O O O O O\n"
       ]
      },
      {
       "name": "stdout",
       "output_type": "stream",
       "stream": "stdout",
       "text": [
        "Guess Row:1\n"
       ]
      },
      {
       "name": "stdout",
       "output_type": "stream",
       "stream": "stdout",
       "text": [
        "Guess Col:1\n"
       ]
      },
      {
       "output_type": "stream",
       "stream": "stdout",
       "text": [
        "You missed my battleship!\n",
        "Turn 1\n",
        "O O O O O O O O O O\n"
       ]
      },
      {
       "ename": "TypeError",
       "evalue": "sequence item 1: expected string, tuple found",
       "output_type": "pyerr",
       "traceback": [
        "\u001b[1;31m---------------------------------------------------------------------------\u001b[0m\n\u001b[1;31mTypeError\u001b[0m                                 Traceback (most recent call last)",
        "\u001b[1;32m<ipython-input-2-263383342218>\u001b[0m in \u001b[0;36m<module>\u001b[1;34m()\u001b[0m\n\u001b[0;32m     50\u001b[0m         \u001b[1;32mif\u001b[0m \u001b[0mturn\u001b[0m \u001b[1;33m==\u001b[0m \u001b[1;36m8\u001b[0m\u001b[1;33m:\u001b[0m\u001b[1;33m\u001b[0m\u001b[0m\n\u001b[0;32m     51\u001b[0m             \u001b[1;32mprint\u001b[0m \u001b[1;34m\"Game Over\"\u001b[0m\u001b[1;33m\u001b[0m\u001b[0m\n\u001b[1;32m---> 52\u001b[1;33m         \u001b[0mprint_board\u001b[0m\u001b[1;33m(\u001b[0m\u001b[0mboard\u001b[0m\u001b[1;33m)\u001b[0m\u001b[1;33m\u001b[0m\u001b[0m\n\u001b[0m",
        "\u001b[1;32m<ipython-input-2-263383342218>\u001b[0m in \u001b[0;36mprint_board\u001b[1;34m(board)\u001b[0m\n\u001b[0;32m      9\u001b[0m \u001b[1;32mdef\u001b[0m \u001b[0mprint_board\u001b[0m\u001b[1;33m(\u001b[0m\u001b[0mboard\u001b[0m\u001b[1;33m)\u001b[0m\u001b[1;33m:\u001b[0m\u001b[1;33m\u001b[0m\u001b[0m\n\u001b[0;32m     10\u001b[0m     \u001b[1;32mfor\u001b[0m \u001b[0mrow\u001b[0m \u001b[1;32min\u001b[0m \u001b[0mboard\u001b[0m\u001b[1;33m:\u001b[0m\u001b[1;33m\u001b[0m\u001b[0m\n\u001b[1;32m---> 11\u001b[1;33m         \u001b[1;32mprint\u001b[0m \u001b[1;34m\" \"\u001b[0m\u001b[1;33m.\u001b[0m\u001b[0mjoin\u001b[0m\u001b[1;33m(\u001b[0m\u001b[0mrow\u001b[0m\u001b[1;33m)\u001b[0m\u001b[1;33m\u001b[0m\u001b[0m\n\u001b[0m\u001b[0;32m     12\u001b[0m \u001b[1;33m\u001b[0m\u001b[0m\n\u001b[0;32m     13\u001b[0m \u001b[1;33m\u001b[0m\u001b[0m\n",
        "\u001b[1;31mTypeError\u001b[0m: sequence item 1: expected string, tuple found"
       ]
      }
     ],
     "prompt_number": 2
    },
    {
     "cell_type": "code",
     "collapsed": false,
     "input": [
      "from random import randint\n",
      "from ipythonblocks import colors\n",
      "from ipythonblocks import BlockGrid\n",
      "\n",
      "board = []\n",
      "\n",
      "print \"Let's play Battleship!\"\n",
      "grid = BlockGrid(10, 10, fill=(173, 216, 230))\n",
      "grid\n",
      "\n",
      "def random_row(board):\n",
      "    return randint(0, grid.width)\n",
      "\n",
      "def random_col(board):\n",
      "    return randint(0, grid.height)\n",
      "\n",
      "ship_row = random_row(board)\n",
      "ship_col = random_col(board)\n",
      "\n",
      "for turn in range(8):\n",
      "    guess_row = int(raw_input(\"Guess Row:\"))\n",
      "    guess_col = int(raw_input(\"Guess Col:\"))\n",
      "\n",
      "    if guess_row == ship_row and guess_col == ship_col:\n",
      "        grid[ship_row,ship_col] = colors['Red']\n",
      "        print \"Congratulations! You sunk my battleship!\"\n",
      "        print (ship_row, ship_col)\n",
      "        for turn in range(8):\n",
      "            break\n",
      "\n",
      "    else:\n",
      "        if (guess_row < 0 or guess_row > 10) or (guess_col < 0 or guess_col > 10):\n",
      "            print \"Oops, that's not even in the ocean.\"\n",
      "            print \"Turn\", turn + 1\n",
      "            #maybe change board to grid\n",
      "        #elif(board[guess_row][guess_col] == colors['Red']):\n",
      "        elif(grid[guess_row,guess_col] == colors['Red']):\n",
      "            print \"You guessed that one already.\"\n",
      "            print \"Turn\", turn + 1\n",
      "        else:\n",
      "            print \"You missed my battleship!\"\n",
      "            board[guess_row][guess_col] = colors['Blue']\n",
      "            print \"Turn\", turn + 1\n",
      "        if turn == 8:\n",
      "            print \"Game Over\""
     ],
     "language": "python",
     "metadata": {},
     "outputs": []
    },
    {
     "cell_type": "code",
     "collapsed": false,
     "input": [],
     "language": "python",
     "metadata": {},
     "outputs": [],
     "prompt_number": 0
    },
    {
     "cell_type": "code",
     "collapsed": false,
     "input": [],
     "language": "python",
     "metadata": {},
     "outputs": []
    },
    {
     "cell_type": "code",
     "collapsed": false,
     "input": [],
     "language": "python",
     "metadata": {},
     "outputs": []
    }
   ],
   "metadata": {}
  }
 ]
}